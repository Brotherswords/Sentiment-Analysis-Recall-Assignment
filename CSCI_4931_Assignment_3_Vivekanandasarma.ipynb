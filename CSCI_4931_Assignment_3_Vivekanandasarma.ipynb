{
  "nbformat": 4,
  "nbformat_minor": 0,
  "metadata": {
    "colab": {
      "provenance": [],
      "machine_shape": "hm",
      "gpuType": "A100",
      "collapsed_sections": [
        "SwpK1hhTW_kn"
      ],
      "authorship_tag": "ABX9TyNjnkLMKOGEMUHWwjRpkWbT",
      "include_colab_link": true
    },
    "kernelspec": {
      "name": "python3",
      "display_name": "Python 3"
    },
    "language_info": {
      "name": "python"
    },
    "accelerator": "GPU",
    "widgets": {
      "application/vnd.jupyter.widget-state+json": {
        "fa2e58f43b8943de8094e60593385772": {
          "model_module": "@jupyter-widgets/controls",
          "model_name": "HBoxModel",
          "model_module_version": "1.5.0",
          "state": {
            "_dom_classes": [],
            "_model_module": "@jupyter-widgets/controls",
            "_model_module_version": "1.5.0",
            "_model_name": "HBoxModel",
            "_view_count": null,
            "_view_module": "@jupyter-widgets/controls",
            "_view_module_version": "1.5.0",
            "_view_name": "HBoxView",
            "box_style": "",
            "children": [
              "IPY_MODEL_f9894ab3bc7d4753b3525ad07f34a42a",
              "IPY_MODEL_ffd14e5b8612477b85608df01703df39",
              "IPY_MODEL_9b30f9669012424585e2ff866da10875"
            ],
            "layout": "IPY_MODEL_8b2bb9090e4d4c6d9d08e7da3a1be5bb"
          }
        },
        "f9894ab3bc7d4753b3525ad07f34a42a": {
          "model_module": "@jupyter-widgets/controls",
          "model_name": "HTMLModel",
          "model_module_version": "1.5.0",
          "state": {
            "_dom_classes": [],
            "_model_module": "@jupyter-widgets/controls",
            "_model_module_version": "1.5.0",
            "_model_name": "HTMLModel",
            "_view_count": null,
            "_view_module": "@jupyter-widgets/controls",
            "_view_module_version": "1.5.0",
            "_view_name": "HTMLView",
            "description": "",
            "description_tooltip": null,
            "layout": "IPY_MODEL_6e5786582f6b447ba3cc4e6b6541c634",
            "placeholder": "​",
            "style": "IPY_MODEL_b0a158f98d404c0d8a20900b0686f5db",
            "value": "tokenizer_config.json: 100%"
          }
        },
        "ffd14e5b8612477b85608df01703df39": {
          "model_module": "@jupyter-widgets/controls",
          "model_name": "FloatProgressModel",
          "model_module_version": "1.5.0",
          "state": {
            "_dom_classes": [],
            "_model_module": "@jupyter-widgets/controls",
            "_model_module_version": "1.5.0",
            "_model_name": "FloatProgressModel",
            "_view_count": null,
            "_view_module": "@jupyter-widgets/controls",
            "_view_module_version": "1.5.0",
            "_view_name": "ProgressView",
            "bar_style": "success",
            "description": "",
            "description_tooltip": null,
            "layout": "IPY_MODEL_795a7430d0244729a2056429c58acf13",
            "max": 28,
            "min": 0,
            "orientation": "horizontal",
            "style": "IPY_MODEL_aca9d1d4bbae4c2cbb757418ccb04aa8",
            "value": 28
          }
        },
        "9b30f9669012424585e2ff866da10875": {
          "model_module": "@jupyter-widgets/controls",
          "model_name": "HTMLModel",
          "model_module_version": "1.5.0",
          "state": {
            "_dom_classes": [],
            "_model_module": "@jupyter-widgets/controls",
            "_model_module_version": "1.5.0",
            "_model_name": "HTMLModel",
            "_view_count": null,
            "_view_module": "@jupyter-widgets/controls",
            "_view_module_version": "1.5.0",
            "_view_name": "HTMLView",
            "description": "",
            "description_tooltip": null,
            "layout": "IPY_MODEL_1745d5ae67e84a40a5ff5ddb8c4734b0",
            "placeholder": "​",
            "style": "IPY_MODEL_34e289cda1da432c8175ec07b9dda4aa",
            "value": " 28.0/28.0 [00:00&lt;00:00, 2.26kB/s]"
          }
        },
        "8b2bb9090e4d4c6d9d08e7da3a1be5bb": {
          "model_module": "@jupyter-widgets/base",
          "model_name": "LayoutModel",
          "model_module_version": "1.2.0",
          "state": {
            "_model_module": "@jupyter-widgets/base",
            "_model_module_version": "1.2.0",
            "_model_name": "LayoutModel",
            "_view_count": null,
            "_view_module": "@jupyter-widgets/base",
            "_view_module_version": "1.2.0",
            "_view_name": "LayoutView",
            "align_content": null,
            "align_items": null,
            "align_self": null,
            "border": null,
            "bottom": null,
            "display": null,
            "flex": null,
            "flex_flow": null,
            "grid_area": null,
            "grid_auto_columns": null,
            "grid_auto_flow": null,
            "grid_auto_rows": null,
            "grid_column": null,
            "grid_gap": null,
            "grid_row": null,
            "grid_template_areas": null,
            "grid_template_columns": null,
            "grid_template_rows": null,
            "height": null,
            "justify_content": null,
            "justify_items": null,
            "left": null,
            "margin": null,
            "max_height": null,
            "max_width": null,
            "min_height": null,
            "min_width": null,
            "object_fit": null,
            "object_position": null,
            "order": null,
            "overflow": null,
            "overflow_x": null,
            "overflow_y": null,
            "padding": null,
            "right": null,
            "top": null,
            "visibility": null,
            "width": null
          }
        },
        "6e5786582f6b447ba3cc4e6b6541c634": {
          "model_module": "@jupyter-widgets/base",
          "model_name": "LayoutModel",
          "model_module_version": "1.2.0",
          "state": {
            "_model_module": "@jupyter-widgets/base",
            "_model_module_version": "1.2.0",
            "_model_name": "LayoutModel",
            "_view_count": null,
            "_view_module": "@jupyter-widgets/base",
            "_view_module_version": "1.2.0",
            "_view_name": "LayoutView",
            "align_content": null,
            "align_items": null,
            "align_self": null,
            "border": null,
            "bottom": null,
            "display": null,
            "flex": null,
            "flex_flow": null,
            "grid_area": null,
            "grid_auto_columns": null,
            "grid_auto_flow": null,
            "grid_auto_rows": null,
            "grid_column": null,
            "grid_gap": null,
            "grid_row": null,
            "grid_template_areas": null,
            "grid_template_columns": null,
            "grid_template_rows": null,
            "height": null,
            "justify_content": null,
            "justify_items": null,
            "left": null,
            "margin": null,
            "max_height": null,
            "max_width": null,
            "min_height": null,
            "min_width": null,
            "object_fit": null,
            "object_position": null,
            "order": null,
            "overflow": null,
            "overflow_x": null,
            "overflow_y": null,
            "padding": null,
            "right": null,
            "top": null,
            "visibility": null,
            "width": null
          }
        },
        "b0a158f98d404c0d8a20900b0686f5db": {
          "model_module": "@jupyter-widgets/controls",
          "model_name": "DescriptionStyleModel",
          "model_module_version": "1.5.0",
          "state": {
            "_model_module": "@jupyter-widgets/controls",
            "_model_module_version": "1.5.0",
            "_model_name": "DescriptionStyleModel",
            "_view_count": null,
            "_view_module": "@jupyter-widgets/base",
            "_view_module_version": "1.2.0",
            "_view_name": "StyleView",
            "description_width": ""
          }
        },
        "795a7430d0244729a2056429c58acf13": {
          "model_module": "@jupyter-widgets/base",
          "model_name": "LayoutModel",
          "model_module_version": "1.2.0",
          "state": {
            "_model_module": "@jupyter-widgets/base",
            "_model_module_version": "1.2.0",
            "_model_name": "LayoutModel",
            "_view_count": null,
            "_view_module": "@jupyter-widgets/base",
            "_view_module_version": "1.2.0",
            "_view_name": "LayoutView",
            "align_content": null,
            "align_items": null,
            "align_self": null,
            "border": null,
            "bottom": null,
            "display": null,
            "flex": null,
            "flex_flow": null,
            "grid_area": null,
            "grid_auto_columns": null,
            "grid_auto_flow": null,
            "grid_auto_rows": null,
            "grid_column": null,
            "grid_gap": null,
            "grid_row": null,
            "grid_template_areas": null,
            "grid_template_columns": null,
            "grid_template_rows": null,
            "height": null,
            "justify_content": null,
            "justify_items": null,
            "left": null,
            "margin": null,
            "max_height": null,
            "max_width": null,
            "min_height": null,
            "min_width": null,
            "object_fit": null,
            "object_position": null,
            "order": null,
            "overflow": null,
            "overflow_x": null,
            "overflow_y": null,
            "padding": null,
            "right": null,
            "top": null,
            "visibility": null,
            "width": null
          }
        },
        "aca9d1d4bbae4c2cbb757418ccb04aa8": {
          "model_module": "@jupyter-widgets/controls",
          "model_name": "ProgressStyleModel",
          "model_module_version": "1.5.0",
          "state": {
            "_model_module": "@jupyter-widgets/controls",
            "_model_module_version": "1.5.0",
            "_model_name": "ProgressStyleModel",
            "_view_count": null,
            "_view_module": "@jupyter-widgets/base",
            "_view_module_version": "1.2.0",
            "_view_name": "StyleView",
            "bar_color": null,
            "description_width": ""
          }
        },
        "1745d5ae67e84a40a5ff5ddb8c4734b0": {
          "model_module": "@jupyter-widgets/base",
          "model_name": "LayoutModel",
          "model_module_version": "1.2.0",
          "state": {
            "_model_module": "@jupyter-widgets/base",
            "_model_module_version": "1.2.0",
            "_model_name": "LayoutModel",
            "_view_count": null,
            "_view_module": "@jupyter-widgets/base",
            "_view_module_version": "1.2.0",
            "_view_name": "LayoutView",
            "align_content": null,
            "align_items": null,
            "align_self": null,
            "border": null,
            "bottom": null,
            "display": null,
            "flex": null,
            "flex_flow": null,
            "grid_area": null,
            "grid_auto_columns": null,
            "grid_auto_flow": null,
            "grid_auto_rows": null,
            "grid_column": null,
            "grid_gap": null,
            "grid_row": null,
            "grid_template_areas": null,
            "grid_template_columns": null,
            "grid_template_rows": null,
            "height": null,
            "justify_content": null,
            "justify_items": null,
            "left": null,
            "margin": null,
            "max_height": null,
            "max_width": null,
            "min_height": null,
            "min_width": null,
            "object_fit": null,
            "object_position": null,
            "order": null,
            "overflow": null,
            "overflow_x": null,
            "overflow_y": null,
            "padding": null,
            "right": null,
            "top": null,
            "visibility": null,
            "width": null
          }
        },
        "34e289cda1da432c8175ec07b9dda4aa": {
          "model_module": "@jupyter-widgets/controls",
          "model_name": "DescriptionStyleModel",
          "model_module_version": "1.5.0",
          "state": {
            "_model_module": "@jupyter-widgets/controls",
            "_model_module_version": "1.5.0",
            "_model_name": "DescriptionStyleModel",
            "_view_count": null,
            "_view_module": "@jupyter-widgets/base",
            "_view_module_version": "1.2.0",
            "_view_name": "StyleView",
            "description_width": ""
          }
        },
        "03dccc2099044064a50476fe1059fb43": {
          "model_module": "@jupyter-widgets/controls",
          "model_name": "HBoxModel",
          "model_module_version": "1.5.0",
          "state": {
            "_dom_classes": [],
            "_model_module": "@jupyter-widgets/controls",
            "_model_module_version": "1.5.0",
            "_model_name": "HBoxModel",
            "_view_count": null,
            "_view_module": "@jupyter-widgets/controls",
            "_view_module_version": "1.5.0",
            "_view_name": "HBoxView",
            "box_style": "",
            "children": [
              "IPY_MODEL_c6d6a0fb410a44b39966b5937704989d",
              "IPY_MODEL_8871ce098aec403c86d23c1706e89576",
              "IPY_MODEL_e0b04ff74f254422872ac64bcb0b4c02"
            ],
            "layout": "IPY_MODEL_c1bc4529aac24cc79a53ae54343f54db"
          }
        },
        "c6d6a0fb410a44b39966b5937704989d": {
          "model_module": "@jupyter-widgets/controls",
          "model_name": "HTMLModel",
          "model_module_version": "1.5.0",
          "state": {
            "_dom_classes": [],
            "_model_module": "@jupyter-widgets/controls",
            "_model_module_version": "1.5.0",
            "_model_name": "HTMLModel",
            "_view_count": null,
            "_view_module": "@jupyter-widgets/controls",
            "_view_module_version": "1.5.0",
            "_view_name": "HTMLView",
            "description": "",
            "description_tooltip": null,
            "layout": "IPY_MODEL_9fcaa6bc5f8f4927b60d372c2b717dfa",
            "placeholder": "​",
            "style": "IPY_MODEL_be2983bba96a40f9ab2bc3858f912353",
            "value": "vocab.txt: 100%"
          }
        },
        "8871ce098aec403c86d23c1706e89576": {
          "model_module": "@jupyter-widgets/controls",
          "model_name": "FloatProgressModel",
          "model_module_version": "1.5.0",
          "state": {
            "_dom_classes": [],
            "_model_module": "@jupyter-widgets/controls",
            "_model_module_version": "1.5.0",
            "_model_name": "FloatProgressModel",
            "_view_count": null,
            "_view_module": "@jupyter-widgets/controls",
            "_view_module_version": "1.5.0",
            "_view_name": "ProgressView",
            "bar_style": "success",
            "description": "",
            "description_tooltip": null,
            "layout": "IPY_MODEL_7713428a72a44a43b34aaf6df791ce62",
            "max": 231508,
            "min": 0,
            "orientation": "horizontal",
            "style": "IPY_MODEL_365f8b020d7f4f71976a58c29a63c7d9",
            "value": 231508
          }
        },
        "e0b04ff74f254422872ac64bcb0b4c02": {
          "model_module": "@jupyter-widgets/controls",
          "model_name": "HTMLModel",
          "model_module_version": "1.5.0",
          "state": {
            "_dom_classes": [],
            "_model_module": "@jupyter-widgets/controls",
            "_model_module_version": "1.5.0",
            "_model_name": "HTMLModel",
            "_view_count": null,
            "_view_module": "@jupyter-widgets/controls",
            "_view_module_version": "1.5.0",
            "_view_name": "HTMLView",
            "description": "",
            "description_tooltip": null,
            "layout": "IPY_MODEL_9558ee6fb3bf416e8d9ffa55a5b14f4f",
            "placeholder": "​",
            "style": "IPY_MODEL_80480102df3c49d1a894ddde93736601",
            "value": " 232k/232k [00:00&lt;00:00, 11.8MB/s]"
          }
        },
        "c1bc4529aac24cc79a53ae54343f54db": {
          "model_module": "@jupyter-widgets/base",
          "model_name": "LayoutModel",
          "model_module_version": "1.2.0",
          "state": {
            "_model_module": "@jupyter-widgets/base",
            "_model_module_version": "1.2.0",
            "_model_name": "LayoutModel",
            "_view_count": null,
            "_view_module": "@jupyter-widgets/base",
            "_view_module_version": "1.2.0",
            "_view_name": "LayoutView",
            "align_content": null,
            "align_items": null,
            "align_self": null,
            "border": null,
            "bottom": null,
            "display": null,
            "flex": null,
            "flex_flow": null,
            "grid_area": null,
            "grid_auto_columns": null,
            "grid_auto_flow": null,
            "grid_auto_rows": null,
            "grid_column": null,
            "grid_gap": null,
            "grid_row": null,
            "grid_template_areas": null,
            "grid_template_columns": null,
            "grid_template_rows": null,
            "height": null,
            "justify_content": null,
            "justify_items": null,
            "left": null,
            "margin": null,
            "max_height": null,
            "max_width": null,
            "min_height": null,
            "min_width": null,
            "object_fit": null,
            "object_position": null,
            "order": null,
            "overflow": null,
            "overflow_x": null,
            "overflow_y": null,
            "padding": null,
            "right": null,
            "top": null,
            "visibility": null,
            "width": null
          }
        },
        "9fcaa6bc5f8f4927b60d372c2b717dfa": {
          "model_module": "@jupyter-widgets/base",
          "model_name": "LayoutModel",
          "model_module_version": "1.2.0",
          "state": {
            "_model_module": "@jupyter-widgets/base",
            "_model_module_version": "1.2.0",
            "_model_name": "LayoutModel",
            "_view_count": null,
            "_view_module": "@jupyter-widgets/base",
            "_view_module_version": "1.2.0",
            "_view_name": "LayoutView",
            "align_content": null,
            "align_items": null,
            "align_self": null,
            "border": null,
            "bottom": null,
            "display": null,
            "flex": null,
            "flex_flow": null,
            "grid_area": null,
            "grid_auto_columns": null,
            "grid_auto_flow": null,
            "grid_auto_rows": null,
            "grid_column": null,
            "grid_gap": null,
            "grid_row": null,
            "grid_template_areas": null,
            "grid_template_columns": null,
            "grid_template_rows": null,
            "height": null,
            "justify_content": null,
            "justify_items": null,
            "left": null,
            "margin": null,
            "max_height": null,
            "max_width": null,
            "min_height": null,
            "min_width": null,
            "object_fit": null,
            "object_position": null,
            "order": null,
            "overflow": null,
            "overflow_x": null,
            "overflow_y": null,
            "padding": null,
            "right": null,
            "top": null,
            "visibility": null,
            "width": null
          }
        },
        "be2983bba96a40f9ab2bc3858f912353": {
          "model_module": "@jupyter-widgets/controls",
          "model_name": "DescriptionStyleModel",
          "model_module_version": "1.5.0",
          "state": {
            "_model_module": "@jupyter-widgets/controls",
            "_model_module_version": "1.5.0",
            "_model_name": "DescriptionStyleModel",
            "_view_count": null,
            "_view_module": "@jupyter-widgets/base",
            "_view_module_version": "1.2.0",
            "_view_name": "StyleView",
            "description_width": ""
          }
        },
        "7713428a72a44a43b34aaf6df791ce62": {
          "model_module": "@jupyter-widgets/base",
          "model_name": "LayoutModel",
          "model_module_version": "1.2.0",
          "state": {
            "_model_module": "@jupyter-widgets/base",
            "_model_module_version": "1.2.0",
            "_model_name": "LayoutModel",
            "_view_count": null,
            "_view_module": "@jupyter-widgets/base",
            "_view_module_version": "1.2.0",
            "_view_name": "LayoutView",
            "align_content": null,
            "align_items": null,
            "align_self": null,
            "border": null,
            "bottom": null,
            "display": null,
            "flex": null,
            "flex_flow": null,
            "grid_area": null,
            "grid_auto_columns": null,
            "grid_auto_flow": null,
            "grid_auto_rows": null,
            "grid_column": null,
            "grid_gap": null,
            "grid_row": null,
            "grid_template_areas": null,
            "grid_template_columns": null,
            "grid_template_rows": null,
            "height": null,
            "justify_content": null,
            "justify_items": null,
            "left": null,
            "margin": null,
            "max_height": null,
            "max_width": null,
            "min_height": null,
            "min_width": null,
            "object_fit": null,
            "object_position": null,
            "order": null,
            "overflow": null,
            "overflow_x": null,
            "overflow_y": null,
            "padding": null,
            "right": null,
            "top": null,
            "visibility": null,
            "width": null
          }
        },
        "365f8b020d7f4f71976a58c29a63c7d9": {
          "model_module": "@jupyter-widgets/controls",
          "model_name": "ProgressStyleModel",
          "model_module_version": "1.5.0",
          "state": {
            "_model_module": "@jupyter-widgets/controls",
            "_model_module_version": "1.5.0",
            "_model_name": "ProgressStyleModel",
            "_view_count": null,
            "_view_module": "@jupyter-widgets/base",
            "_view_module_version": "1.2.0",
            "_view_name": "StyleView",
            "bar_color": null,
            "description_width": ""
          }
        },
        "9558ee6fb3bf416e8d9ffa55a5b14f4f": {
          "model_module": "@jupyter-widgets/base",
          "model_name": "LayoutModel",
          "model_module_version": "1.2.0",
          "state": {
            "_model_module": "@jupyter-widgets/base",
            "_model_module_version": "1.2.0",
            "_model_name": "LayoutModel",
            "_view_count": null,
            "_view_module": "@jupyter-widgets/base",
            "_view_module_version": "1.2.0",
            "_view_name": "LayoutView",
            "align_content": null,
            "align_items": null,
            "align_self": null,
            "border": null,
            "bottom": null,
            "display": null,
            "flex": null,
            "flex_flow": null,
            "grid_area": null,
            "grid_auto_columns": null,
            "grid_auto_flow": null,
            "grid_auto_rows": null,
            "grid_column": null,
            "grid_gap": null,
            "grid_row": null,
            "grid_template_areas": null,
            "grid_template_columns": null,
            "grid_template_rows": null,
            "height": null,
            "justify_content": null,
            "justify_items": null,
            "left": null,
            "margin": null,
            "max_height": null,
            "max_width": null,
            "min_height": null,
            "min_width": null,
            "object_fit": null,
            "object_position": null,
            "order": null,
            "overflow": null,
            "overflow_x": null,
            "overflow_y": null,
            "padding": null,
            "right": null,
            "top": null,
            "visibility": null,
            "width": null
          }
        },
        "80480102df3c49d1a894ddde93736601": {
          "model_module": "@jupyter-widgets/controls",
          "model_name": "DescriptionStyleModel",
          "model_module_version": "1.5.0",
          "state": {
            "_model_module": "@jupyter-widgets/controls",
            "_model_module_version": "1.5.0",
            "_model_name": "DescriptionStyleModel",
            "_view_count": null,
            "_view_module": "@jupyter-widgets/base",
            "_view_module_version": "1.2.0",
            "_view_name": "StyleView",
            "description_width": ""
          }
        },
        "22d03aa428804ee3bec692c3b1468cfc": {
          "model_module": "@jupyter-widgets/controls",
          "model_name": "HBoxModel",
          "model_module_version": "1.5.0",
          "state": {
            "_dom_classes": [],
            "_model_module": "@jupyter-widgets/controls",
            "_model_module_version": "1.5.0",
            "_model_name": "HBoxModel",
            "_view_count": null,
            "_view_module": "@jupyter-widgets/controls",
            "_view_module_version": "1.5.0",
            "_view_name": "HBoxView",
            "box_style": "",
            "children": [
              "IPY_MODEL_6e9d18795b9748ecb4bbcb76477feeea",
              "IPY_MODEL_1063ba330d0641e08dcb45ceae9cd490",
              "IPY_MODEL_1324430c5ca2460785a5cfe4471cf801"
            ],
            "layout": "IPY_MODEL_0d1b3fec54f547b2b0707471ac2c365d"
          }
        },
        "6e9d18795b9748ecb4bbcb76477feeea": {
          "model_module": "@jupyter-widgets/controls",
          "model_name": "HTMLModel",
          "model_module_version": "1.5.0",
          "state": {
            "_dom_classes": [],
            "_model_module": "@jupyter-widgets/controls",
            "_model_module_version": "1.5.0",
            "_model_name": "HTMLModel",
            "_view_count": null,
            "_view_module": "@jupyter-widgets/controls",
            "_view_module_version": "1.5.0",
            "_view_name": "HTMLView",
            "description": "",
            "description_tooltip": null,
            "layout": "IPY_MODEL_50d9d1e38f144edba34c0b87f642d879",
            "placeholder": "​",
            "style": "IPY_MODEL_d8dca1e0c64f40c6a5894cb8f2a98cc9",
            "value": "tokenizer.json: 100%"
          }
        },
        "1063ba330d0641e08dcb45ceae9cd490": {
          "model_module": "@jupyter-widgets/controls",
          "model_name": "FloatProgressModel",
          "model_module_version": "1.5.0",
          "state": {
            "_dom_classes": [],
            "_model_module": "@jupyter-widgets/controls",
            "_model_module_version": "1.5.0",
            "_model_name": "FloatProgressModel",
            "_view_count": null,
            "_view_module": "@jupyter-widgets/controls",
            "_view_module_version": "1.5.0",
            "_view_name": "ProgressView",
            "bar_style": "success",
            "description": "",
            "description_tooltip": null,
            "layout": "IPY_MODEL_744bc2f693cc41f3b1c259bcf158b883",
            "max": 466062,
            "min": 0,
            "orientation": "horizontal",
            "style": "IPY_MODEL_d6f2135dabae4a8ca9c9912e9f23e26c",
            "value": 466062
          }
        },
        "1324430c5ca2460785a5cfe4471cf801": {
          "model_module": "@jupyter-widgets/controls",
          "model_name": "HTMLModel",
          "model_module_version": "1.5.0",
          "state": {
            "_dom_classes": [],
            "_model_module": "@jupyter-widgets/controls",
            "_model_module_version": "1.5.0",
            "_model_name": "HTMLModel",
            "_view_count": null,
            "_view_module": "@jupyter-widgets/controls",
            "_view_module_version": "1.5.0",
            "_view_name": "HTMLView",
            "description": "",
            "description_tooltip": null,
            "layout": "IPY_MODEL_f4b4938c47604b919ce0a4aa9a769ce3",
            "placeholder": "​",
            "style": "IPY_MODEL_45dbb05701ae497ea5a9c608d074d199",
            "value": " 466k/466k [00:00&lt;00:00, 25.3MB/s]"
          }
        },
        "0d1b3fec54f547b2b0707471ac2c365d": {
          "model_module": "@jupyter-widgets/base",
          "model_name": "LayoutModel",
          "model_module_version": "1.2.0",
          "state": {
            "_model_module": "@jupyter-widgets/base",
            "_model_module_version": "1.2.0",
            "_model_name": "LayoutModel",
            "_view_count": null,
            "_view_module": "@jupyter-widgets/base",
            "_view_module_version": "1.2.0",
            "_view_name": "LayoutView",
            "align_content": null,
            "align_items": null,
            "align_self": null,
            "border": null,
            "bottom": null,
            "display": null,
            "flex": null,
            "flex_flow": null,
            "grid_area": null,
            "grid_auto_columns": null,
            "grid_auto_flow": null,
            "grid_auto_rows": null,
            "grid_column": null,
            "grid_gap": null,
            "grid_row": null,
            "grid_template_areas": null,
            "grid_template_columns": null,
            "grid_template_rows": null,
            "height": null,
            "justify_content": null,
            "justify_items": null,
            "left": null,
            "margin": null,
            "max_height": null,
            "max_width": null,
            "min_height": null,
            "min_width": null,
            "object_fit": null,
            "object_position": null,
            "order": null,
            "overflow": null,
            "overflow_x": null,
            "overflow_y": null,
            "padding": null,
            "right": null,
            "top": null,
            "visibility": null,
            "width": null
          }
        },
        "50d9d1e38f144edba34c0b87f642d879": {
          "model_module": "@jupyter-widgets/base",
          "model_name": "LayoutModel",
          "model_module_version": "1.2.0",
          "state": {
            "_model_module": "@jupyter-widgets/base",
            "_model_module_version": "1.2.0",
            "_model_name": "LayoutModel",
            "_view_count": null,
            "_view_module": "@jupyter-widgets/base",
            "_view_module_version": "1.2.0",
            "_view_name": "LayoutView",
            "align_content": null,
            "align_items": null,
            "align_self": null,
            "border": null,
            "bottom": null,
            "display": null,
            "flex": null,
            "flex_flow": null,
            "grid_area": null,
            "grid_auto_columns": null,
            "grid_auto_flow": null,
            "grid_auto_rows": null,
            "grid_column": null,
            "grid_gap": null,
            "grid_row": null,
            "grid_template_areas": null,
            "grid_template_columns": null,
            "grid_template_rows": null,
            "height": null,
            "justify_content": null,
            "justify_items": null,
            "left": null,
            "margin": null,
            "max_height": null,
            "max_width": null,
            "min_height": null,
            "min_width": null,
            "object_fit": null,
            "object_position": null,
            "order": null,
            "overflow": null,
            "overflow_x": null,
            "overflow_y": null,
            "padding": null,
            "right": null,
            "top": null,
            "visibility": null,
            "width": null
          }
        },
        "d8dca1e0c64f40c6a5894cb8f2a98cc9": {
          "model_module": "@jupyter-widgets/controls",
          "model_name": "DescriptionStyleModel",
          "model_module_version": "1.5.0",
          "state": {
            "_model_module": "@jupyter-widgets/controls",
            "_model_module_version": "1.5.0",
            "_model_name": "DescriptionStyleModel",
            "_view_count": null,
            "_view_module": "@jupyter-widgets/base",
            "_view_module_version": "1.2.0",
            "_view_name": "StyleView",
            "description_width": ""
          }
        },
        "744bc2f693cc41f3b1c259bcf158b883": {
          "model_module": "@jupyter-widgets/base",
          "model_name": "LayoutModel",
          "model_module_version": "1.2.0",
          "state": {
            "_model_module": "@jupyter-widgets/base",
            "_model_module_version": "1.2.0",
            "_model_name": "LayoutModel",
            "_view_count": null,
            "_view_module": "@jupyter-widgets/base",
            "_view_module_version": "1.2.0",
            "_view_name": "LayoutView",
            "align_content": null,
            "align_items": null,
            "align_self": null,
            "border": null,
            "bottom": null,
            "display": null,
            "flex": null,
            "flex_flow": null,
            "grid_area": null,
            "grid_auto_columns": null,
            "grid_auto_flow": null,
            "grid_auto_rows": null,
            "grid_column": null,
            "grid_gap": null,
            "grid_row": null,
            "grid_template_areas": null,
            "grid_template_columns": null,
            "grid_template_rows": null,
            "height": null,
            "justify_content": null,
            "justify_items": null,
            "left": null,
            "margin": null,
            "max_height": null,
            "max_width": null,
            "min_height": null,
            "min_width": null,
            "object_fit": null,
            "object_position": null,
            "order": null,
            "overflow": null,
            "overflow_x": null,
            "overflow_y": null,
            "padding": null,
            "right": null,
            "top": null,
            "visibility": null,
            "width": null
          }
        },
        "d6f2135dabae4a8ca9c9912e9f23e26c": {
          "model_module": "@jupyter-widgets/controls",
          "model_name": "ProgressStyleModel",
          "model_module_version": "1.5.0",
          "state": {
            "_model_module": "@jupyter-widgets/controls",
            "_model_module_version": "1.5.0",
            "_model_name": "ProgressStyleModel",
            "_view_count": null,
            "_view_module": "@jupyter-widgets/base",
            "_view_module_version": "1.2.0",
            "_view_name": "StyleView",
            "bar_color": null,
            "description_width": ""
          }
        },
        "f4b4938c47604b919ce0a4aa9a769ce3": {
          "model_module": "@jupyter-widgets/base",
          "model_name": "LayoutModel",
          "model_module_version": "1.2.0",
          "state": {
            "_model_module": "@jupyter-widgets/base",
            "_model_module_version": "1.2.0",
            "_model_name": "LayoutModel",
            "_view_count": null,
            "_view_module": "@jupyter-widgets/base",
            "_view_module_version": "1.2.0",
            "_view_name": "LayoutView",
            "align_content": null,
            "align_items": null,
            "align_self": null,
            "border": null,
            "bottom": null,
            "display": null,
            "flex": null,
            "flex_flow": null,
            "grid_area": null,
            "grid_auto_columns": null,
            "grid_auto_flow": null,
            "grid_auto_rows": null,
            "grid_column": null,
            "grid_gap": null,
            "grid_row": null,
            "grid_template_areas": null,
            "grid_template_columns": null,
            "grid_template_rows": null,
            "height": null,
            "justify_content": null,
            "justify_items": null,
            "left": null,
            "margin": null,
            "max_height": null,
            "max_width": null,
            "min_height": null,
            "min_width": null,
            "object_fit": null,
            "object_position": null,
            "order": null,
            "overflow": null,
            "overflow_x": null,
            "overflow_y": null,
            "padding": null,
            "right": null,
            "top": null,
            "visibility": null,
            "width": null
          }
        },
        "45dbb05701ae497ea5a9c608d074d199": {
          "model_module": "@jupyter-widgets/controls",
          "model_name": "DescriptionStyleModel",
          "model_module_version": "1.5.0",
          "state": {
            "_model_module": "@jupyter-widgets/controls",
            "_model_module_version": "1.5.0",
            "_model_name": "DescriptionStyleModel",
            "_view_count": null,
            "_view_module": "@jupyter-widgets/base",
            "_view_module_version": "1.2.0",
            "_view_name": "StyleView",
            "description_width": ""
          }
        },
        "54c75b0cd8cf449480b7f77619bdc356": {
          "model_module": "@jupyter-widgets/controls",
          "model_name": "HBoxModel",
          "model_module_version": "1.5.0",
          "state": {
            "_dom_classes": [],
            "_model_module": "@jupyter-widgets/controls",
            "_model_module_version": "1.5.0",
            "_model_name": "HBoxModel",
            "_view_count": null,
            "_view_module": "@jupyter-widgets/controls",
            "_view_module_version": "1.5.0",
            "_view_name": "HBoxView",
            "box_style": "",
            "children": [
              "IPY_MODEL_3f964539e0054ebc8206510e734f7720",
              "IPY_MODEL_8d55c9882a1b45f0a22c2833f1639b9d",
              "IPY_MODEL_aa458771a2444b81a35f96afe17cb471"
            ],
            "layout": "IPY_MODEL_9cc3e9e24ada43d0958913b7e99fed66"
          }
        },
        "3f964539e0054ebc8206510e734f7720": {
          "model_module": "@jupyter-widgets/controls",
          "model_name": "HTMLModel",
          "model_module_version": "1.5.0",
          "state": {
            "_dom_classes": [],
            "_model_module": "@jupyter-widgets/controls",
            "_model_module_version": "1.5.0",
            "_model_name": "HTMLModel",
            "_view_count": null,
            "_view_module": "@jupyter-widgets/controls",
            "_view_module_version": "1.5.0",
            "_view_name": "HTMLView",
            "description": "",
            "description_tooltip": null,
            "layout": "IPY_MODEL_28b92d3f405f4f36bcb359183410d453",
            "placeholder": "​",
            "style": "IPY_MODEL_108752221d0f455aacd0655b52646f71",
            "value": "config.json: 100%"
          }
        },
        "8d55c9882a1b45f0a22c2833f1639b9d": {
          "model_module": "@jupyter-widgets/controls",
          "model_name": "FloatProgressModel",
          "model_module_version": "1.5.0",
          "state": {
            "_dom_classes": [],
            "_model_module": "@jupyter-widgets/controls",
            "_model_module_version": "1.5.0",
            "_model_name": "FloatProgressModel",
            "_view_count": null,
            "_view_module": "@jupyter-widgets/controls",
            "_view_module_version": "1.5.0",
            "_view_name": "ProgressView",
            "bar_style": "success",
            "description": "",
            "description_tooltip": null,
            "layout": "IPY_MODEL_5617e7124dc242d6abad8b7906029347",
            "max": 570,
            "min": 0,
            "orientation": "horizontal",
            "style": "IPY_MODEL_39777bd425534ea483aec2762052bca7",
            "value": 570
          }
        },
        "aa458771a2444b81a35f96afe17cb471": {
          "model_module": "@jupyter-widgets/controls",
          "model_name": "HTMLModel",
          "model_module_version": "1.5.0",
          "state": {
            "_dom_classes": [],
            "_model_module": "@jupyter-widgets/controls",
            "_model_module_version": "1.5.0",
            "_model_name": "HTMLModel",
            "_view_count": null,
            "_view_module": "@jupyter-widgets/controls",
            "_view_module_version": "1.5.0",
            "_view_name": "HTMLView",
            "description": "",
            "description_tooltip": null,
            "layout": "IPY_MODEL_0d86b65e79e44ec28413c4287b302feb",
            "placeholder": "​",
            "style": "IPY_MODEL_75e9d08132bb461f873561c3a20c9a02",
            "value": " 570/570 [00:00&lt;00:00, 52.6kB/s]"
          }
        },
        "9cc3e9e24ada43d0958913b7e99fed66": {
          "model_module": "@jupyter-widgets/base",
          "model_name": "LayoutModel",
          "model_module_version": "1.2.0",
          "state": {
            "_model_module": "@jupyter-widgets/base",
            "_model_module_version": "1.2.0",
            "_model_name": "LayoutModel",
            "_view_count": null,
            "_view_module": "@jupyter-widgets/base",
            "_view_module_version": "1.2.0",
            "_view_name": "LayoutView",
            "align_content": null,
            "align_items": null,
            "align_self": null,
            "border": null,
            "bottom": null,
            "display": null,
            "flex": null,
            "flex_flow": null,
            "grid_area": null,
            "grid_auto_columns": null,
            "grid_auto_flow": null,
            "grid_auto_rows": null,
            "grid_column": null,
            "grid_gap": null,
            "grid_row": null,
            "grid_template_areas": null,
            "grid_template_columns": null,
            "grid_template_rows": null,
            "height": null,
            "justify_content": null,
            "justify_items": null,
            "left": null,
            "margin": null,
            "max_height": null,
            "max_width": null,
            "min_height": null,
            "min_width": null,
            "object_fit": null,
            "object_position": null,
            "order": null,
            "overflow": null,
            "overflow_x": null,
            "overflow_y": null,
            "padding": null,
            "right": null,
            "top": null,
            "visibility": null,
            "width": null
          }
        },
        "28b92d3f405f4f36bcb359183410d453": {
          "model_module": "@jupyter-widgets/base",
          "model_name": "LayoutModel",
          "model_module_version": "1.2.0",
          "state": {
            "_model_module": "@jupyter-widgets/base",
            "_model_module_version": "1.2.0",
            "_model_name": "LayoutModel",
            "_view_count": null,
            "_view_module": "@jupyter-widgets/base",
            "_view_module_version": "1.2.0",
            "_view_name": "LayoutView",
            "align_content": null,
            "align_items": null,
            "align_self": null,
            "border": null,
            "bottom": null,
            "display": null,
            "flex": null,
            "flex_flow": null,
            "grid_area": null,
            "grid_auto_columns": null,
            "grid_auto_flow": null,
            "grid_auto_rows": null,
            "grid_column": null,
            "grid_gap": null,
            "grid_row": null,
            "grid_template_areas": null,
            "grid_template_columns": null,
            "grid_template_rows": null,
            "height": null,
            "justify_content": null,
            "justify_items": null,
            "left": null,
            "margin": null,
            "max_height": null,
            "max_width": null,
            "min_height": null,
            "min_width": null,
            "object_fit": null,
            "object_position": null,
            "order": null,
            "overflow": null,
            "overflow_x": null,
            "overflow_y": null,
            "padding": null,
            "right": null,
            "top": null,
            "visibility": null,
            "width": null
          }
        },
        "108752221d0f455aacd0655b52646f71": {
          "model_module": "@jupyter-widgets/controls",
          "model_name": "DescriptionStyleModel",
          "model_module_version": "1.5.0",
          "state": {
            "_model_module": "@jupyter-widgets/controls",
            "_model_module_version": "1.5.0",
            "_model_name": "DescriptionStyleModel",
            "_view_count": null,
            "_view_module": "@jupyter-widgets/base",
            "_view_module_version": "1.2.0",
            "_view_name": "StyleView",
            "description_width": ""
          }
        },
        "5617e7124dc242d6abad8b7906029347": {
          "model_module": "@jupyter-widgets/base",
          "model_name": "LayoutModel",
          "model_module_version": "1.2.0",
          "state": {
            "_model_module": "@jupyter-widgets/base",
            "_model_module_version": "1.2.0",
            "_model_name": "LayoutModel",
            "_view_count": null,
            "_view_module": "@jupyter-widgets/base",
            "_view_module_version": "1.2.0",
            "_view_name": "LayoutView",
            "align_content": null,
            "align_items": null,
            "align_self": null,
            "border": null,
            "bottom": null,
            "display": null,
            "flex": null,
            "flex_flow": null,
            "grid_area": null,
            "grid_auto_columns": null,
            "grid_auto_flow": null,
            "grid_auto_rows": null,
            "grid_column": null,
            "grid_gap": null,
            "grid_row": null,
            "grid_template_areas": null,
            "grid_template_columns": null,
            "grid_template_rows": null,
            "height": null,
            "justify_content": null,
            "justify_items": null,
            "left": null,
            "margin": null,
            "max_height": null,
            "max_width": null,
            "min_height": null,
            "min_width": null,
            "object_fit": null,
            "object_position": null,
            "order": null,
            "overflow": null,
            "overflow_x": null,
            "overflow_y": null,
            "padding": null,
            "right": null,
            "top": null,
            "visibility": null,
            "width": null
          }
        },
        "39777bd425534ea483aec2762052bca7": {
          "model_module": "@jupyter-widgets/controls",
          "model_name": "ProgressStyleModel",
          "model_module_version": "1.5.0",
          "state": {
            "_model_module": "@jupyter-widgets/controls",
            "_model_module_version": "1.5.0",
            "_model_name": "ProgressStyleModel",
            "_view_count": null,
            "_view_module": "@jupyter-widgets/base",
            "_view_module_version": "1.2.0",
            "_view_name": "StyleView",
            "bar_color": null,
            "description_width": ""
          }
        },
        "0d86b65e79e44ec28413c4287b302feb": {
          "model_module": "@jupyter-widgets/base",
          "model_name": "LayoutModel",
          "model_module_version": "1.2.0",
          "state": {
            "_model_module": "@jupyter-widgets/base",
            "_model_module_version": "1.2.0",
            "_model_name": "LayoutModel",
            "_view_count": null,
            "_view_module": "@jupyter-widgets/base",
            "_view_module_version": "1.2.0",
            "_view_name": "LayoutView",
            "align_content": null,
            "align_items": null,
            "align_self": null,
            "border": null,
            "bottom": null,
            "display": null,
            "flex": null,
            "flex_flow": null,
            "grid_area": null,
            "grid_auto_columns": null,
            "grid_auto_flow": null,
            "grid_auto_rows": null,
            "grid_column": null,
            "grid_gap": null,
            "grid_row": null,
            "grid_template_areas": null,
            "grid_template_columns": null,
            "grid_template_rows": null,
            "height": null,
            "justify_content": null,
            "justify_items": null,
            "left": null,
            "margin": null,
            "max_height": null,
            "max_width": null,
            "min_height": null,
            "min_width": null,
            "object_fit": null,
            "object_position": null,
            "order": null,
            "overflow": null,
            "overflow_x": null,
            "overflow_y": null,
            "padding": null,
            "right": null,
            "top": null,
            "visibility": null,
            "width": null
          }
        },
        "75e9d08132bb461f873561c3a20c9a02": {
          "model_module": "@jupyter-widgets/controls",
          "model_name": "DescriptionStyleModel",
          "model_module_version": "1.5.0",
          "state": {
            "_model_module": "@jupyter-widgets/controls",
            "_model_module_version": "1.5.0",
            "_model_name": "DescriptionStyleModel",
            "_view_count": null,
            "_view_module": "@jupyter-widgets/base",
            "_view_module_version": "1.2.0",
            "_view_name": "StyleView",
            "description_width": ""
          }
        },
        "d1e6293ccd33470ca574e5a61a013bac": {
          "model_module": "@jupyter-widgets/controls",
          "model_name": "HBoxModel",
          "model_module_version": "1.5.0",
          "state": {
            "_dom_classes": [],
            "_model_module": "@jupyter-widgets/controls",
            "_model_module_version": "1.5.0",
            "_model_name": "HBoxModel",
            "_view_count": null,
            "_view_module": "@jupyter-widgets/controls",
            "_view_module_version": "1.5.0",
            "_view_name": "HBoxView",
            "box_style": "",
            "children": [
              "IPY_MODEL_a9ebe47012d44811aad13d0eb6bc10ed",
              "IPY_MODEL_3b72de5f937e47929f08b9643ff77bab",
              "IPY_MODEL_bd0de86960d742c6b12a0118712d99d3"
            ],
            "layout": "IPY_MODEL_602708d1f04048db8d672c697c9cd44c"
          }
        },
        "a9ebe47012d44811aad13d0eb6bc10ed": {
          "model_module": "@jupyter-widgets/controls",
          "model_name": "HTMLModel",
          "model_module_version": "1.5.0",
          "state": {
            "_dom_classes": [],
            "_model_module": "@jupyter-widgets/controls",
            "_model_module_version": "1.5.0",
            "_model_name": "HTMLModel",
            "_view_count": null,
            "_view_module": "@jupyter-widgets/controls",
            "_view_module_version": "1.5.0",
            "_view_name": "HTMLView",
            "description": "",
            "description_tooltip": null,
            "layout": "IPY_MODEL_a5336d20718d487c8d90c0b7f4577cdf",
            "placeholder": "​",
            "style": "IPY_MODEL_c6ade038759145febb2dbd737d3da48d",
            "value": "model.safetensors: 100%"
          }
        },
        "3b72de5f937e47929f08b9643ff77bab": {
          "model_module": "@jupyter-widgets/controls",
          "model_name": "FloatProgressModel",
          "model_module_version": "1.5.0",
          "state": {
            "_dom_classes": [],
            "_model_module": "@jupyter-widgets/controls",
            "_model_module_version": "1.5.0",
            "_model_name": "FloatProgressModel",
            "_view_count": null,
            "_view_module": "@jupyter-widgets/controls",
            "_view_module_version": "1.5.0",
            "_view_name": "ProgressView",
            "bar_style": "success",
            "description": "",
            "description_tooltip": null,
            "layout": "IPY_MODEL_f15b392becb241e5a15455075744300c",
            "max": 440449768,
            "min": 0,
            "orientation": "horizontal",
            "style": "IPY_MODEL_2453601d07ae4484bc074970954fecbc",
            "value": 440449768
          }
        },
        "bd0de86960d742c6b12a0118712d99d3": {
          "model_module": "@jupyter-widgets/controls",
          "model_name": "HTMLModel",
          "model_module_version": "1.5.0",
          "state": {
            "_dom_classes": [],
            "_model_module": "@jupyter-widgets/controls",
            "_model_module_version": "1.5.0",
            "_model_name": "HTMLModel",
            "_view_count": null,
            "_view_module": "@jupyter-widgets/controls",
            "_view_module_version": "1.5.0",
            "_view_name": "HTMLView",
            "description": "",
            "description_tooltip": null,
            "layout": "IPY_MODEL_a3f326a84f3c43b7a8f3fd374e4e1894",
            "placeholder": "​",
            "style": "IPY_MODEL_2fd9033666164c40bbfb7340ad83d705",
            "value": " 440M/440M [00:01&lt;00:00, 435MB/s]"
          }
        },
        "602708d1f04048db8d672c697c9cd44c": {
          "model_module": "@jupyter-widgets/base",
          "model_name": "LayoutModel",
          "model_module_version": "1.2.0",
          "state": {
            "_model_module": "@jupyter-widgets/base",
            "_model_module_version": "1.2.0",
            "_model_name": "LayoutModel",
            "_view_count": null,
            "_view_module": "@jupyter-widgets/base",
            "_view_module_version": "1.2.0",
            "_view_name": "LayoutView",
            "align_content": null,
            "align_items": null,
            "align_self": null,
            "border": null,
            "bottom": null,
            "display": null,
            "flex": null,
            "flex_flow": null,
            "grid_area": null,
            "grid_auto_columns": null,
            "grid_auto_flow": null,
            "grid_auto_rows": null,
            "grid_column": null,
            "grid_gap": null,
            "grid_row": null,
            "grid_template_areas": null,
            "grid_template_columns": null,
            "grid_template_rows": null,
            "height": null,
            "justify_content": null,
            "justify_items": null,
            "left": null,
            "margin": null,
            "max_height": null,
            "max_width": null,
            "min_height": null,
            "min_width": null,
            "object_fit": null,
            "object_position": null,
            "order": null,
            "overflow": null,
            "overflow_x": null,
            "overflow_y": null,
            "padding": null,
            "right": null,
            "top": null,
            "visibility": null,
            "width": null
          }
        },
        "a5336d20718d487c8d90c0b7f4577cdf": {
          "model_module": "@jupyter-widgets/base",
          "model_name": "LayoutModel",
          "model_module_version": "1.2.0",
          "state": {
            "_model_module": "@jupyter-widgets/base",
            "_model_module_version": "1.2.0",
            "_model_name": "LayoutModel",
            "_view_count": null,
            "_view_module": "@jupyter-widgets/base",
            "_view_module_version": "1.2.0",
            "_view_name": "LayoutView",
            "align_content": null,
            "align_items": null,
            "align_self": null,
            "border": null,
            "bottom": null,
            "display": null,
            "flex": null,
            "flex_flow": null,
            "grid_area": null,
            "grid_auto_columns": null,
            "grid_auto_flow": null,
            "grid_auto_rows": null,
            "grid_column": null,
            "grid_gap": null,
            "grid_row": null,
            "grid_template_areas": null,
            "grid_template_columns": null,
            "grid_template_rows": null,
            "height": null,
            "justify_content": null,
            "justify_items": null,
            "left": null,
            "margin": null,
            "max_height": null,
            "max_width": null,
            "min_height": null,
            "min_width": null,
            "object_fit": null,
            "object_position": null,
            "order": null,
            "overflow": null,
            "overflow_x": null,
            "overflow_y": null,
            "padding": null,
            "right": null,
            "top": null,
            "visibility": null,
            "width": null
          }
        },
        "c6ade038759145febb2dbd737d3da48d": {
          "model_module": "@jupyter-widgets/controls",
          "model_name": "DescriptionStyleModel",
          "model_module_version": "1.5.0",
          "state": {
            "_model_module": "@jupyter-widgets/controls",
            "_model_module_version": "1.5.0",
            "_model_name": "DescriptionStyleModel",
            "_view_count": null,
            "_view_module": "@jupyter-widgets/base",
            "_view_module_version": "1.2.0",
            "_view_name": "StyleView",
            "description_width": ""
          }
        },
        "f15b392becb241e5a15455075744300c": {
          "model_module": "@jupyter-widgets/base",
          "model_name": "LayoutModel",
          "model_module_version": "1.2.0",
          "state": {
            "_model_module": "@jupyter-widgets/base",
            "_model_module_version": "1.2.0",
            "_model_name": "LayoutModel",
            "_view_count": null,
            "_view_module": "@jupyter-widgets/base",
            "_view_module_version": "1.2.0",
            "_view_name": "LayoutView",
            "align_content": null,
            "align_items": null,
            "align_self": null,
            "border": null,
            "bottom": null,
            "display": null,
            "flex": null,
            "flex_flow": null,
            "grid_area": null,
            "grid_auto_columns": null,
            "grid_auto_flow": null,
            "grid_auto_rows": null,
            "grid_column": null,
            "grid_gap": null,
            "grid_row": null,
            "grid_template_areas": null,
            "grid_template_columns": null,
            "grid_template_rows": null,
            "height": null,
            "justify_content": null,
            "justify_items": null,
            "left": null,
            "margin": null,
            "max_height": null,
            "max_width": null,
            "min_height": null,
            "min_width": null,
            "object_fit": null,
            "object_position": null,
            "order": null,
            "overflow": null,
            "overflow_x": null,
            "overflow_y": null,
            "padding": null,
            "right": null,
            "top": null,
            "visibility": null,
            "width": null
          }
        },
        "2453601d07ae4484bc074970954fecbc": {
          "model_module": "@jupyter-widgets/controls",
          "model_name": "ProgressStyleModel",
          "model_module_version": "1.5.0",
          "state": {
            "_model_module": "@jupyter-widgets/controls",
            "_model_module_version": "1.5.0",
            "_model_name": "ProgressStyleModel",
            "_view_count": null,
            "_view_module": "@jupyter-widgets/base",
            "_view_module_version": "1.2.0",
            "_view_name": "StyleView",
            "bar_color": null,
            "description_width": ""
          }
        },
        "a3f326a84f3c43b7a8f3fd374e4e1894": {
          "model_module": "@jupyter-widgets/base",
          "model_name": "LayoutModel",
          "model_module_version": "1.2.0",
          "state": {
            "_model_module": "@jupyter-widgets/base",
            "_model_module_version": "1.2.0",
            "_model_name": "LayoutModel",
            "_view_count": null,
            "_view_module": "@jupyter-widgets/base",
            "_view_module_version": "1.2.0",
            "_view_name": "LayoutView",
            "align_content": null,
            "align_items": null,
            "align_self": null,
            "border": null,
            "bottom": null,
            "display": null,
            "flex": null,
            "flex_flow": null,
            "grid_area": null,
            "grid_auto_columns": null,
            "grid_auto_flow": null,
            "grid_auto_rows": null,
            "grid_column": null,
            "grid_gap": null,
            "grid_row": null,
            "grid_template_areas": null,
            "grid_template_columns": null,
            "grid_template_rows": null,
            "height": null,
            "justify_content": null,
            "justify_items": null,
            "left": null,
            "margin": null,
            "max_height": null,
            "max_width": null,
            "min_height": null,
            "min_width": null,
            "object_fit": null,
            "object_position": null,
            "order": null,
            "overflow": null,
            "overflow_x": null,
            "overflow_y": null,
            "padding": null,
            "right": null,
            "top": null,
            "visibility": null,
            "width": null
          }
        },
        "2fd9033666164c40bbfb7340ad83d705": {
          "model_module": "@jupyter-widgets/controls",
          "model_name": "DescriptionStyleModel",
          "model_module_version": "1.5.0",
          "state": {
            "_model_module": "@jupyter-widgets/controls",
            "_model_module_version": "1.5.0",
            "_model_name": "DescriptionStyleModel",
            "_view_count": null,
            "_view_module": "@jupyter-widgets/base",
            "_view_module_version": "1.2.0",
            "_view_name": "StyleView",
            "description_width": ""
          }
        }
      }
    }
  },
  "cells": [
    {
      "cell_type": "markdown",
      "metadata": {
        "id": "view-in-github",
        "colab_type": "text"
      },
      "source": [
        "<a href=\"https://colab.research.google.com/github/Brotherswords/Sentiment-Analysis-Recall-Assignment/blob/main/CSCI_4931_Assignment_3_Vivekanandasarma.ipynb\" target=\"_parent\"><img src=\"https://colab.research.google.com/assets/colab-badge.svg\" alt=\"Open In Colab\"/></a>"
      ]
    },
    {
      "cell_type": "code",
      "source": [
        "from google.colab import drive\n",
        "from transformers import TFBertModel, BertTokenizer\n",
        "from tensorflow.keras.metrics import Precision, Recall\n",
        "import tensorflow as tf\n",
        "import os\n",
        "import zipfile\n",
        "import numpy as np\n",
        "import pandas as pd\n",
        "import numpy as np\n",
        "import pickle"
      ],
      "metadata": {
        "id": "KEGhnldoTVF_"
      },
      "execution_count": null,
      "outputs": []
    },
    {
      "cell_type": "code",
      "execution_count": null,
      "metadata": {
        "colab": {
          "base_uri": "https://localhost:8080/"
        },
        "id": "H0CXHK8zS3Sl",
        "outputId": "5ff569b1-b61f-4fd9-f9c8-1d739972abd7"
      },
      "outputs": [
        {
          "output_type": "stream",
          "name": "stdout",
          "text": [
            "Mounted at /content/drive\n",
            "Files and directories in ' /content/drive/My Drive/Projects Things Useful/University/CU Denver 2023-2024 Sem 1/Deep Learning/Assignment_3_Data ' :\n",
            "train.csv\n",
            "validation.csv\n",
            "test.csv\n",
            "BERT_assignment_3_version_1.h5\n",
            "BERT_assignment_3_version_3.h5\n"
          ]
        }
      ],
      "source": [
        "#Check for the file I need\n",
        "drive.mount('/content/drive')\n",
        "directory_path = '/content/drive/My Drive/Projects Things Useful/University/CU Denver 2023-2024 Sem 1/Deep Learning/Assignment_3_Data'\n",
        "pickle_path = directory_path + \"/Pickle_Files\"\n",
        "# Check if the directory exists\n",
        "if os.path.exists(directory_path):\n",
        "    # List all files and directories in the specified path\n",
        "    files = os.listdir(directory_path)\n",
        "    print(\"Files and directories in '\", directory_path, \"' :\")\n",
        "    for i in files:\n",
        "      print(i)\n",
        "else:\n",
        "    print(\"The directory does not exist\")\n",
        "\n",
        "train_path = directory_path + '/train.csv'\n",
        "test_path = directory_path + '/test.csv'\n",
        "validation_path = directory_path + '/validation.csv'"
      ]
    },
    {
      "cell_type": "markdown",
      "source": [
        "# Approach 1 (for fun not really for the assignment haha): RandomForestClassifier"
      ],
      "metadata": {
        "id": "SwpK1hhTW_kn"
      }
    },
    {
      "cell_type": "code",
      "source": [
        "import pandas as pd\n",
        "from sklearn.model_selection import train_test_split\n",
        "from sklearn.feature_extraction.text import TfidfVectorizer\n",
        "from sklearn.multioutput import MultiOutputClassifier\n",
        "from sklearn.ensemble import RandomForestClassifier\n",
        "from sklearn.metrics import recall_score\n",
        "import numpy as np\n",
        "\n",
        "# Load data\n",
        "train_df = pd.read_csv(directory_path + '/train.csv')\n",
        "validation_df = pd.read_csv(directory_path + '/validation.csv')\n",
        "test_df = pd.read_csv(directory_path + '/test.csv')\n",
        "\n",
        "# Preprocess and feature extraction\n",
        "vectorizer = TfidfVectorizer(max_features=5000)\n",
        "X_train = vectorizer.fit_transform(train_df['Tweet'])\n",
        "y_train = train_df.iloc[:, 2:]\n",
        "\n",
        "X_test = vectorizer.transform(test_df['Tweet'])\n",
        "y_test = test_df.iloc[:, 2:]\n",
        "\n",
        "# Model training\n",
        "model = MultiOutputClassifier(RandomForestClassifier(n_estimators=100))\n",
        "model.fit(X_train, y_train)\n",
        "\n"
      ],
      "metadata": {
        "colab": {
          "base_uri": "https://localhost:8080/",
          "height": 118
        },
        "id": "LIM8TRVwUgOo",
        "outputId": "e1686830-d193-4118-edb7-4dab1777acba"
      },
      "execution_count": null,
      "outputs": [
        {
          "output_type": "execute_result",
          "data": {
            "text/plain": [
              "MultiOutputClassifier(estimator=RandomForestClassifier())"
            ],
            "text/html": [
              "<style>#sk-container-id-1 {color: black;background-color: white;}#sk-container-id-1 pre{padding: 0;}#sk-container-id-1 div.sk-toggleable {background-color: white;}#sk-container-id-1 label.sk-toggleable__label {cursor: pointer;display: block;width: 100%;margin-bottom: 0;padding: 0.3em;box-sizing: border-box;text-align: center;}#sk-container-id-1 label.sk-toggleable__label-arrow:before {content: \"▸\";float: left;margin-right: 0.25em;color: #696969;}#sk-container-id-1 label.sk-toggleable__label-arrow:hover:before {color: black;}#sk-container-id-1 div.sk-estimator:hover label.sk-toggleable__label-arrow:before {color: black;}#sk-container-id-1 div.sk-toggleable__content {max-height: 0;max-width: 0;overflow: hidden;text-align: left;background-color: #f0f8ff;}#sk-container-id-1 div.sk-toggleable__content pre {margin: 0.2em;color: black;border-radius: 0.25em;background-color: #f0f8ff;}#sk-container-id-1 input.sk-toggleable__control:checked~div.sk-toggleable__content {max-height: 200px;max-width: 100%;overflow: auto;}#sk-container-id-1 input.sk-toggleable__control:checked~label.sk-toggleable__label-arrow:before {content: \"▾\";}#sk-container-id-1 div.sk-estimator input.sk-toggleable__control:checked~label.sk-toggleable__label {background-color: #d4ebff;}#sk-container-id-1 div.sk-label input.sk-toggleable__control:checked~label.sk-toggleable__label {background-color: #d4ebff;}#sk-container-id-1 input.sk-hidden--visually {border: 0;clip: rect(1px 1px 1px 1px);clip: rect(1px, 1px, 1px, 1px);height: 1px;margin: -1px;overflow: hidden;padding: 0;position: absolute;width: 1px;}#sk-container-id-1 div.sk-estimator {font-family: monospace;background-color: #f0f8ff;border: 1px dotted black;border-radius: 0.25em;box-sizing: border-box;margin-bottom: 0.5em;}#sk-container-id-1 div.sk-estimator:hover {background-color: #d4ebff;}#sk-container-id-1 div.sk-parallel-item::after {content: \"\";width: 100%;border-bottom: 1px solid gray;flex-grow: 1;}#sk-container-id-1 div.sk-label:hover label.sk-toggleable__label {background-color: #d4ebff;}#sk-container-id-1 div.sk-serial::before {content: \"\";position: absolute;border-left: 1px solid gray;box-sizing: border-box;top: 0;bottom: 0;left: 50%;z-index: 0;}#sk-container-id-1 div.sk-serial {display: flex;flex-direction: column;align-items: center;background-color: white;padding-right: 0.2em;padding-left: 0.2em;position: relative;}#sk-container-id-1 div.sk-item {position: relative;z-index: 1;}#sk-container-id-1 div.sk-parallel {display: flex;align-items: stretch;justify-content: center;background-color: white;position: relative;}#sk-container-id-1 div.sk-item::before, #sk-container-id-1 div.sk-parallel-item::before {content: \"\";position: absolute;border-left: 1px solid gray;box-sizing: border-box;top: 0;bottom: 0;left: 50%;z-index: -1;}#sk-container-id-1 div.sk-parallel-item {display: flex;flex-direction: column;z-index: 1;position: relative;background-color: white;}#sk-container-id-1 div.sk-parallel-item:first-child::after {align-self: flex-end;width: 50%;}#sk-container-id-1 div.sk-parallel-item:last-child::after {align-self: flex-start;width: 50%;}#sk-container-id-1 div.sk-parallel-item:only-child::after {width: 0;}#sk-container-id-1 div.sk-dashed-wrapped {border: 1px dashed gray;margin: 0 0.4em 0.5em 0.4em;box-sizing: border-box;padding-bottom: 0.4em;background-color: white;}#sk-container-id-1 div.sk-label label {font-family: monospace;font-weight: bold;display: inline-block;line-height: 1.2em;}#sk-container-id-1 div.sk-label-container {text-align: center;}#sk-container-id-1 div.sk-container {/* jupyter's `normalize.less` sets `[hidden] { display: none; }` but bootstrap.min.css set `[hidden] { display: none !important; }` so we also need the `!important` here to be able to override the default hidden behavior on the sphinx rendered scikit-learn.org. See: https://github.com/scikit-learn/scikit-learn/issues/21755 */display: inline-block !important;position: relative;}#sk-container-id-1 div.sk-text-repr-fallback {display: none;}</style><div id=\"sk-container-id-1\" class=\"sk-top-container\"><div class=\"sk-text-repr-fallback\"><pre>MultiOutputClassifier(estimator=RandomForestClassifier())</pre><b>In a Jupyter environment, please rerun this cell to show the HTML representation or trust the notebook. <br />On GitHub, the HTML representation is unable to render, please try loading this page with nbviewer.org.</b></div><div class=\"sk-container\" hidden><div class=\"sk-item sk-dashed-wrapped\"><div class=\"sk-label-container\"><div class=\"sk-label sk-toggleable\"><input class=\"sk-toggleable__control sk-hidden--visually\" id=\"sk-estimator-id-1\" type=\"checkbox\" ><label for=\"sk-estimator-id-1\" class=\"sk-toggleable__label sk-toggleable__label-arrow\">MultiOutputClassifier</label><div class=\"sk-toggleable__content\"><pre>MultiOutputClassifier(estimator=RandomForestClassifier())</pre></div></div></div><div class=\"sk-parallel\"><div class=\"sk-parallel-item\"><div class=\"sk-item\"><div class=\"sk-label-container\"><div class=\"sk-label sk-toggleable\"><input class=\"sk-toggleable__control sk-hidden--visually\" id=\"sk-estimator-id-2\" type=\"checkbox\" ><label for=\"sk-estimator-id-2\" class=\"sk-toggleable__label sk-toggleable__label-arrow\">estimator: RandomForestClassifier</label><div class=\"sk-toggleable__content\"><pre>RandomForestClassifier()</pre></div></div></div><div class=\"sk-serial\"><div class=\"sk-item\"><div class=\"sk-estimator sk-toggleable\"><input class=\"sk-toggleable__control sk-hidden--visually\" id=\"sk-estimator-id-3\" type=\"checkbox\" ><label for=\"sk-estimator-id-3\" class=\"sk-toggleable__label sk-toggleable__label-arrow\">RandomForestClassifier</label><div class=\"sk-toggleable__content\"><pre>RandomForestClassifier()</pre></div></div></div></div></div></div></div></div></div></div>"
            ]
          },
          "metadata": {},
          "execution_count": 49
        }
      ]
    },
    {
      "cell_type": "code",
      "source": [
        "# Prediction and evaluation on test data\n",
        "predictions = model.predict(X_test)\n",
        "recall_scores = recall_score(y_test, predictions, average=None)\n",
        "print('Recall scores per class:', recall_scores)\n",
        "micro_recall = recall_score(y_test, predictions, average='micro')\n",
        "print('Micro Recall:', micro_recall)\n",
        "count = len([i for i in recall_scores if i >= 0.50])\n",
        "print(count,\"of the\",len(recall_scores),\"labels have a recall over 50\")\n",
        "\n"
      ],
      "metadata": {
        "colab": {
          "base_uri": "https://localhost:8080/"
        },
        "id": "s9zA4oAtWjKO",
        "outputId": "64fd424d-b9de-4737-f071-b8adc1654f7c"
      },
      "execution_count": null,
      "outputs": [
        {
          "output_type": "stream",
          "name": "stdout",
          "text": [
            "Recall scores per class: [0.48319709 0.01647059 0.41674249 0.55257732 0.59916782 0.24418605\n",
            " 0.34470691 0.048      0.32708333 0.06470588 0.        ]\n",
            "2 of the 11 labels have a recall over 50\n",
            "Micro Recall: 0.3802262040920066\n"
          ]
        }
      ]
    },
    {
      "cell_type": "markdown",
      "source": [
        "Yikes! 😱 We can probably do better with something else."
      ],
      "metadata": {
        "id": "7AQpPL3AmCwf"
      }
    },
    {
      "cell_type": "markdown",
      "source": [
        "# Approach 2 (for real this time): LSTM"
      ],
      "metadata": {
        "id": "YZDr6CqiXFO3"
      }
    },
    {
      "cell_type": "markdown",
      "source": [
        "## 2.1 Lemmatizing/Removing Stopwords"
      ],
      "metadata": {
        "id": "zyQCkIW1YDQk"
      }
    },
    {
      "cell_type": "code",
      "source": [
        "import nltk\n",
        "from nltk.stem import WordNetLemmatizer\n",
        "from nltk.corpus import stopwords\n",
        "import re\n",
        "import pandas as pd\n",
        "\n",
        "# Download necessary NLTK data\n",
        "nltk.download('wordnet')\n",
        "nltk.download('stopwords')\n",
        "nltk.download('punkt')\n",
        "\n",
        "# Initialize the lemmatizer\n",
        "lemmatizer = WordNetLemmatizer()\n",
        "\n",
        "def preprocess_text(text):\n",
        "    # Lowercasing\n",
        "    text = text.lower()\n",
        "\n",
        "    # Remove non-alphabetic characters\n",
        "    text = re.sub(r'[^a-zA-Z]', ' ', text)\n",
        "\n",
        "    # Tokenization\n",
        "    tokens = nltk.word_tokenize(text)\n",
        "\n",
        "    # Remove stopwords and lemmatize\n",
        "    lemmatized_tokens = [lemmatizer.lemmatize(word) for word in tokens if word not in stopwords.words('english')]\n",
        "\n",
        "    # Reconstruct the sentence\n",
        "    return ' '.join(lemmatized_tokens)\n",
        "\n",
        "# Assuming you have a dataframe 'df' with a column 'Tweet'\n",
        "df_train = pd.read_csv(train_path)\n",
        "df_test = pd.read_csv(test_path)\n",
        "df_validation = pd.read_csv(validation_path)\n",
        "df_train['Tweet'] = df_train['Tweet'].apply(preprocess_text)\n",
        "df_test['Tweet'] = df_test['Tweet'].apply(preprocess_text)\n",
        "df_validation['Tweet'] = df_validation['Tweet'].apply(preprocess_text)"
      ],
      "metadata": {
        "colab": {
          "base_uri": "https://localhost:8080/"
        },
        "id": "ZayQnn0CWkNX",
        "outputId": "a52b655d-c617-4a0e-f9eb-b0cf167d7c80"
      },
      "execution_count": null,
      "outputs": [
        {
          "output_type": "stream",
          "name": "stderr",
          "text": [
            "[nltk_data] Downloading package wordnet to /root/nltk_data...\n",
            "[nltk_data] Downloading package stopwords to /root/nltk_data...\n",
            "[nltk_data]   Unzipping corpora/stopwords.zip.\n",
            "[nltk_data] Downloading package punkt to /root/nltk_data...\n",
            "[nltk_data]   Unzipping tokenizers/punkt.zip.\n"
          ]
        }
      ]
    },
    {
      "cell_type": "markdown",
      "source": [
        "## Step 2.2 Text Vectorization & Padding"
      ],
      "metadata": {
        "id": "XFYeXdndYJQZ"
      }
    },
    {
      "cell_type": "code",
      "source": [
        "import numpy as np\n",
        "from tensorflow.keras.preprocessing.text import Tokenizer\n",
        "from tensorflow.keras.preprocessing.sequence import pad_sequences\n",
        "\n",
        "# Tokenization and Vectorization\n",
        "max_vocab = 10000  # Number of unique words to consider\n",
        "tokenizer = Tokenizer(num_words=max_vocab)\n",
        "tokenizer.fit_on_texts(df_train['Tweet'])\n",
        "\n",
        "# Convert text to sequences of integers\n",
        "X_train_seq = tokenizer.texts_to_sequences(df_train['Tweet'])\n",
        "X_test_seq = tokenizer.texts_to_sequences(df_test['Tweet'])\n",
        "X_val_seq = tokenizer.texts_to_sequences(df_validation['Tweet'])\n",
        "\n",
        "# Calculate the length of each sequence in the training set\n",
        "sequence_lengths = [len(seq) for seq in X_train_seq]\n",
        "\n",
        "# Determine the 90th percentile of these lengths\n",
        "max_sequence_length = int(np.percentile(sequence_lengths, 90))\n",
        "\n",
        "# Padding sequences to ensure uniform length\n",
        "X_train_pad = pad_sequences(X_train_seq, maxlen=max_sequence_length)\n",
        "X_test_pad = pad_sequences(X_test_seq, maxlen=max_sequence_length)\n",
        "X_val_pad = pad_sequences(X_val_seq, maxlen=max_sequence_length)\n"
      ],
      "metadata": {
        "id": "WrgYufuwYMba"
      },
      "execution_count": null,
      "outputs": []
    },
    {
      "cell_type": "markdown",
      "source": [
        "## Step 2.3 Preparing the Labels"
      ],
      "metadata": {
        "id": "8JbbagD_Y5m9"
      }
    },
    {
      "cell_type": "code",
      "source": [
        "y_train = df_train.iloc[:, 2:].values\n",
        "y_test = df_test.iloc[:, 2:].values\n",
        "y_val = df_validation.iloc[:, 2:].values\n",
        "\n",
        "# Assuming the first two columns are 'ID' and 'Tweet', and the rest are labels\n",
        "num_labels = len(df_train.columns) - 2\n",
        "print(\"num_labels\",num_labels)"
      ],
      "metadata": {
        "colab": {
          "base_uri": "https://localhost:8080/"
        },
        "id": "DFllD6C2Y8pk",
        "outputId": "a815f272-e68c-4256-9086-a3c4ffd0382f"
      },
      "execution_count": null,
      "outputs": [
        {
          "output_type": "stream",
          "name": "stdout",
          "text": [
            "num_labels 11\n"
          ]
        }
      ]
    },
    {
      "cell_type": "markdown",
      "source": [
        "## Step 2.4 Bulding the LSTM Model"
      ],
      "metadata": {
        "id": "XRxfsKcCZIdd"
      }
    },
    {
      "cell_type": "markdown",
      "source": [
        "Building the Embedding Matrix with word2vec"
      ],
      "metadata": {
        "id": "i5dWnyIZeDsJ"
      }
    },
    {
      "cell_type": "code",
      "source": [
        "import gensim.downloader as api\n",
        "\n",
        "# Load Google's pre-trained Word2Vec model.\n",
        "word2vec_model = api.load(\"word2vec-google-news-300\")"
      ],
      "metadata": {
        "colab": {
          "base_uri": "https://localhost:8080/"
        },
        "id": "gjWQtlp8eChJ",
        "outputId": "c956936d-6c1c-437b-b27f-ac6e2660587d"
      },
      "execution_count": null,
      "outputs": [
        {
          "output_type": "stream",
          "name": "stdout",
          "text": [
            "[==================================================] 100.0% 1662.8/1662.8MB downloaded\n"
          ]
        }
      ]
    },
    {
      "cell_type": "code",
      "source": [
        "import numpy as np\n",
        "import pickle\n",
        "\n",
        "embedding_dim = 300  # Dimension of Google's Word2Vec embeddings\n",
        "vocab_size = len(tokenizer.word_index) + 1  # Plus 1 for padding token\n",
        "\n",
        "# Initialize the embedding matrix\n",
        "embedding_matrix = np.zeros((vocab_size, embedding_dim))\n",
        "\n",
        "for word, i in tokenizer.word_index.items():\n",
        "    if word in word2vec_model:\n",
        "        embedding_vector = word2vec_model[word]\n",
        "        if embedding_vector is not None:\n",
        "            embedding_matrix[i] = embedding_vector\n"
      ],
      "metadata": {
        "id": "abzuK_2LeHwl"
      },
      "execution_count": null,
      "outputs": []
    },
    {
      "cell_type": "code",
      "source": [
        "pickle_file_path = directory_path + 'embedding_matrix.pkl'\n",
        "\n",
        "# Write the embedding matrix to the pickle file\n",
        "with open(pickle_file_path, 'wb') as file:\n",
        "    pickle.dump(embedding_matrix, file)\n",
        "\n",
        "print(f\"Embedding matrix saved to {pickle_file_path}\")"
      ],
      "metadata": {
        "colab": {
          "base_uri": "https://localhost:8080/"
        },
        "id": "t990WegSehaa",
        "outputId": "f9375da3-07cc-4a34-a924-aacf7c39a5ac"
      },
      "execution_count": null,
      "outputs": [
        {
          "output_type": "stream",
          "name": "stdout",
          "text": [
            "Embedding matrix saved to /content/drive/My Drive/Projects Things Useful/University/CU Denver 2023-2024 Sem 1/Deep Learning/Assignment_3_Dataembedding_matrix.pkl\n"
          ]
        }
      ]
    },
    {
      "cell_type": "markdown",
      "source": [
        "Actual model architecture (based off of my quiz 5 model)"
      ],
      "metadata": {
        "id": "VGHg5lt8eJYR"
      }
    },
    {
      "cell_type": "code",
      "source": [
        "from tensorflow.keras.models import Sequential\n",
        "from tensorflow.keras.layers import Bidirectional, Embedding, LSTM, Dense, Dropout\n",
        "from tensorflow.keras.metrics import Precision, Recall\n",
        "\n",
        "\n",
        "\n",
        "model = Sequential()\n",
        "# Add the pre-loaded embedding layer\n",
        "model.add(Embedding(input_dim=max_vocab, output_dim=128, input_length=max_sequence_length))\n",
        "# Add an LSTM layer\n",
        "model.add(Bidirectional(LSTM(units=128, return_sequences=True)))\n",
        "model.add(Dropout(0.3))\n",
        "model.add(Bidirectional(LSTM(units=64)))\n",
        "model.add(Dropout(0.3))\n",
        "model.add(Dense(units=128, activation='relu'))\n",
        "# Output layer with a sigmoid activation for multi-label classification\n",
        "model.add(Dense(units=num_labels, activation='sigmoid'))\n",
        "# Compile the model\n",
        "model.compile(optimizer='adam', loss='binary_crossentropy', metrics=[Precision(), Recall()])\n",
        "model.summary()"
      ],
      "metadata": {
        "colab": {
          "base_uri": "https://localhost:8080/"
        },
        "id": "YFhwPN2fZLPV",
        "outputId": "06bf6774-82f8-4fcb-cf6b-3278c218353c"
      },
      "execution_count": null,
      "outputs": [
        {
          "output_type": "stream",
          "name": "stdout",
          "text": [
            "Model: \"sequential_2\"\n",
            "_________________________________________________________________\n",
            " Layer (type)                Output Shape              Param #   \n",
            "=================================================================\n",
            " embedding_2 (Embedding)     (None, 14, 128)           1280000   \n",
            "                                                                 \n",
            " bidirectional_4 (Bidirecti  (None, 14, 256)           263168    \n",
            " onal)                                                           \n",
            "                                                                 \n",
            " dropout_542 (Dropout)       (None, 14, 256)           0         \n",
            "                                                                 \n",
            " bidirectional_5 (Bidirecti  (None, 128)               164352    \n",
            " onal)                                                           \n",
            "                                                                 \n",
            " dropout_543 (Dropout)       (None, 128)               0         \n",
            "                                                                 \n",
            " dense_31 (Dense)            (None, 128)               16512     \n",
            "                                                                 \n",
            " dense_32 (Dense)            (None, 11)                1419      \n",
            "                                                                 \n",
            "=================================================================\n",
            "Total params: 1725451 (6.58 MB)\n",
            "Trainable params: 1725451 (6.58 MB)\n",
            "Non-trainable params: 0 (0.00 Byte)\n",
            "_________________________________________________________________\n"
          ]
        }
      ]
    },
    {
      "cell_type": "markdown",
      "source": [
        "## Step 2.5 Training the model"
      ],
      "metadata": {
        "id": "fCh5Z23Sa1aJ"
      }
    },
    {
      "cell_type": "code",
      "source": [
        "from tensorflow.keras.callbacks import EarlyStopping\n",
        "\n",
        "# Callback for early stopping\n",
        "early_stopping = EarlyStopping(monitor='val_loss', patience=3, restore_best_weights=True)\n",
        "\n",
        "epochs = 30\n",
        "batch_size = 32\n",
        "\n",
        "# Train the model\n",
        "history = model.fit(X_train_pad, y_train,\n",
        "                    epochs=epochs,\n",
        "                    batch_size=batch_size,\n",
        "                    validation_data=(X_val_pad, y_val),\n",
        "                    callbacks=[early_stopping])"
      ],
      "metadata": {
        "colab": {
          "base_uri": "https://localhost:8080/"
        },
        "id": "yo4I5xD0a47e",
        "outputId": "467314e3-211a-4a10-853b-222c1ae1d661"
      },
      "execution_count": null,
      "outputs": [
        {
          "output_type": "stream",
          "name": "stdout",
          "text": [
            "Epoch 1/30\n",
            "214/214 [==============================] - 2s 10ms/step - loss: 0.2759 - precision_9: 0.7930 - recall_9: 0.6225 - val_loss: 0.3973 - val_precision_9: 0.6906 - val_recall_9: 0.5072\n",
            "Epoch 2/30\n",
            "214/214 [==============================] - 2s 11ms/step - loss: 0.2418 - precision_9: 0.8105 - recall_9: 0.6904 - val_loss: 0.4040 - val_precision_9: 0.6897 - val_recall_9: 0.5493\n",
            "Epoch 3/30\n",
            "214/214 [==============================] - 2s 10ms/step - loss: 0.2170 - precision_9: 0.8252 - recall_9: 0.7313 - val_loss: 0.4394 - val_precision_9: 0.6558 - val_recall_9: 0.5423\n",
            "Epoch 4/30\n",
            "214/214 [==============================] - 2s 10ms/step - loss: 0.1971 - precision_9: 0.8356 - recall_9: 0.7623 - val_loss: 0.4760 - val_precision_9: 0.6253 - val_recall_9: 0.5775\n"
          ]
        }
      ]
    },
    {
      "cell_type": "markdown",
      "source": [
        "Saving the model 🎊"
      ],
      "metadata": {
        "id": "bgYBM-96bJU_"
      }
    },
    {
      "cell_type": "code",
      "source": [
        "#Version 1 best performing rn\n",
        "model_filename = \"LSTM_assignment_3_version_4.h5\"\n",
        "full_path = directory_path + model_filename\n",
        "model.save(full_path)"
      ],
      "metadata": {
        "colab": {
          "base_uri": "https://localhost:8080/"
        },
        "id": "RnXy5Ef-bNQo",
        "outputId": "e3e30123-adbd-4a5d-88c5-d92741c935a9"
      },
      "execution_count": null,
      "outputs": [
        {
          "output_type": "stream",
          "name": "stderr",
          "text": [
            "/usr/local/lib/python3.10/dist-packages/keras/src/engine/training.py:3079: UserWarning: You are saving your model as an HDF5 file via `model.save()`. This file format is considered legacy. We recommend using instead the native Keras format, e.g. `model.save('my_model.keras')`.\n",
            "  saving_api.save_model(\n"
          ]
        }
      ]
    },
    {
      "cell_type": "markdown",
      "source": [
        "## Step 2.5 Test the model"
      ],
      "metadata": {
        "id": "18pARvD2bvoP"
      }
    },
    {
      "cell_type": "code",
      "source": [
        "import tensorflow as tf\n",
        "import numpy as np\n",
        "\n",
        "model = tf.keras.models.load_model(full_path)\n",
        "\n",
        "# Evaluate the model on the test data\n",
        "# Assuming X_test_pad and y_test are your padded test features and labels\n",
        "evaluation_results = model.evaluate(X_test_pad, y_test)\n",
        "test_loss = evaluation_results[0]\n",
        "test_accuracy = evaluation_results[1]\n",
        "\n",
        "# Get model predictions\n",
        "predictions = model.predict(X_test_pad)\n",
        "# Convert predictions to binary (0 or 1)\n",
        "binary_predictions = np.round(predictions)\n"
      ],
      "metadata": {
        "colab": {
          "base_uri": "https://localhost:8080/"
        },
        "id": "at4NG4YTbyGz",
        "outputId": "72d7ba25-f963-4eaf-c0c0-d42b8932b773"
      },
      "execution_count": null,
      "outputs": [
        {
          "output_type": "stream",
          "name": "stdout",
          "text": [
            "102/102 [==============================] - 2s 4ms/step - loss: 0.4040 - precision_9: 0.6827 - recall_9: 0.5062\n",
            "102/102 [==============================] - 2s 3ms/step\n"
          ]
        }
      ]
    },
    {
      "cell_type": "code",
      "source": [
        "from sklearn.metrics import recall_score, precision_score, f1_score\n",
        "\n",
        "micro_recall = recall_score(y_test, binary_predictions, average='micro')\n",
        "print(\"Micro Recall:\", micro_recall)\n",
        "\n",
        "# Calculate micro precision\n",
        "micro_precision = precision_score(y_test, binary_predictions, average='micro')\n",
        "print(\"Micro Precision:\", micro_precision)\n",
        "\n",
        "# Calculate micro F1-score\n",
        "micro_f1 = f1_score(y_test, binary_predictions, average='micro')\n",
        "print(\"Micro F1-Score:\", micro_f1)"
      ],
      "metadata": {
        "colab": {
          "base_uri": "https://localhost:8080/"
        },
        "id": "zlABKN7Ub5LJ",
        "outputId": "81eef11f-5387-4166-de20-37231e32bc98"
      },
      "execution_count": null,
      "outputs": [
        {
          "output_type": "stream",
          "name": "stdout",
          "text": [
            "Micro Recall: 0.5061634261024273\n",
            "Micro Precision: 0.6827219746314707\n",
            "Micro F1-Score: 0.5813325549149821\n"
          ]
        }
      ]
    },
    {
      "cell_type": "markdown",
      "source": [
        "Per-Class Recalls()"
      ],
      "metadata": {
        "id": "CQLLlV-_dVdO"
      }
    },
    {
      "cell_type": "code",
      "source": [
        "from sklearn.metrics import recall_score\n",
        "\n",
        "# Predict on the test set\n",
        "predictions = model.predict(X_test_pad)\n",
        "binary_predictions = np.round(predictions)\n",
        "\n",
        "# Calculate recall for each class individually\n",
        "class_recall = recall_score(y_test, binary_predictions, average=None)\n",
        "\n",
        "# Print recall for each class\n",
        "emotion_classes = df_train.columns[2:]  # Assuming the first two columns are not labels\n",
        "over_50 = 0\n",
        "for emotion, recall in zip(emotion_classes, class_recall):\n",
        "    print(f\"Recall for {emotion}: {recall}\")\n",
        "    if recall >= 0.5:\n",
        "      over_50 += 1\n",
        "print(over_50,\"of the\",num_labels,\"labels have a recall over 50\")\n"
      ],
      "metadata": {
        "colab": {
          "base_uri": "https://localhost:8080/"
        },
        "id": "DvUQvaS7cvlK",
        "outputId": "881145d0-eca6-4b63-e767-82c32b22218c"
      },
      "execution_count": null,
      "outputs": [
        {
          "output_type": "stream",
          "name": "stdout",
          "text": [
            "102/102 [==============================] - 0s 3ms/step\n",
            "Recall for anger: 0.620345140781108\n",
            "Recall for anticipation: 0.002352941176470588\n",
            "Recall for disgust: 0.5832575068243858\n",
            "Recall for fear: 0.5010309278350515\n",
            "Recall for joy: 0.6456310679611651\n",
            "Recall for love: 0.27325581395348836\n",
            "Recall for optimism: 0.6019247594050744\n",
            "Recall for pessimism: 0.192\n",
            "Recall for sadness: 0.6072916666666667\n",
            "Recall for surprise: 0.0\n",
            "Recall for trust: 0.0\n",
            "6 of the 11 labels have a recall over 50\n"
          ]
        }
      ]
    },
    {
      "cell_type": "markdown",
      "source": [
        "### LETS GO WE GOT 6 OF 11 🎊"
      ],
      "metadata": {
        "id": "DPPLAXCKh1cu"
      }
    },
    {
      "cell_type": "markdown",
      "source": [
        "# Approach 3: BERT Time 😈"
      ],
      "metadata": {
        "id": "v2oR732vh61a"
      }
    },
    {
      "cell_type": "markdown",
      "source": [
        "## Step 3.1 Loading BERT Model & Tokenizer"
      ],
      "metadata": {
        "id": "vVaml976ihH0"
      }
    },
    {
      "cell_type": "code",
      "source": [
        "from transformers import BertTokenizer, TFBertModel\n",
        "\n",
        "# Load pre-trained BERT tokenizer\n",
        "tokenizer = BertTokenizer.from_pretrained('bert-base-uncased')\n",
        "\n",
        "# Load pre-trained BERT model\n",
        "bert_model = TFBertModel.from_pretrained('bert-base-uncased')\n"
      ],
      "metadata": {
        "colab": {
          "base_uri": "https://localhost:8080/",
          "height": 284,
          "referenced_widgets": [
            "fa2e58f43b8943de8094e60593385772",
            "f9894ab3bc7d4753b3525ad07f34a42a",
            "ffd14e5b8612477b85608df01703df39",
            "9b30f9669012424585e2ff866da10875",
            "8b2bb9090e4d4c6d9d08e7da3a1be5bb",
            "6e5786582f6b447ba3cc4e6b6541c634",
            "b0a158f98d404c0d8a20900b0686f5db",
            "795a7430d0244729a2056429c58acf13",
            "aca9d1d4bbae4c2cbb757418ccb04aa8",
            "1745d5ae67e84a40a5ff5ddb8c4734b0",
            "34e289cda1da432c8175ec07b9dda4aa",
            "03dccc2099044064a50476fe1059fb43",
            "c6d6a0fb410a44b39966b5937704989d",
            "8871ce098aec403c86d23c1706e89576",
            "e0b04ff74f254422872ac64bcb0b4c02",
            "c1bc4529aac24cc79a53ae54343f54db",
            "9fcaa6bc5f8f4927b60d372c2b717dfa",
            "be2983bba96a40f9ab2bc3858f912353",
            "7713428a72a44a43b34aaf6df791ce62",
            "365f8b020d7f4f71976a58c29a63c7d9",
            "9558ee6fb3bf416e8d9ffa55a5b14f4f",
            "80480102df3c49d1a894ddde93736601",
            "22d03aa428804ee3bec692c3b1468cfc",
            "6e9d18795b9748ecb4bbcb76477feeea",
            "1063ba330d0641e08dcb45ceae9cd490",
            "1324430c5ca2460785a5cfe4471cf801",
            "0d1b3fec54f547b2b0707471ac2c365d",
            "50d9d1e38f144edba34c0b87f642d879",
            "d8dca1e0c64f40c6a5894cb8f2a98cc9",
            "744bc2f693cc41f3b1c259bcf158b883",
            "d6f2135dabae4a8ca9c9912e9f23e26c",
            "f4b4938c47604b919ce0a4aa9a769ce3",
            "45dbb05701ae497ea5a9c608d074d199",
            "54c75b0cd8cf449480b7f77619bdc356",
            "3f964539e0054ebc8206510e734f7720",
            "8d55c9882a1b45f0a22c2833f1639b9d",
            "aa458771a2444b81a35f96afe17cb471",
            "9cc3e9e24ada43d0958913b7e99fed66",
            "28b92d3f405f4f36bcb359183410d453",
            "108752221d0f455aacd0655b52646f71",
            "5617e7124dc242d6abad8b7906029347",
            "39777bd425534ea483aec2762052bca7",
            "0d86b65e79e44ec28413c4287b302feb",
            "75e9d08132bb461f873561c3a20c9a02",
            "d1e6293ccd33470ca574e5a61a013bac",
            "a9ebe47012d44811aad13d0eb6bc10ed",
            "3b72de5f937e47929f08b9643ff77bab",
            "bd0de86960d742c6b12a0118712d99d3",
            "602708d1f04048db8d672c697c9cd44c",
            "a5336d20718d487c8d90c0b7f4577cdf",
            "c6ade038759145febb2dbd737d3da48d",
            "f15b392becb241e5a15455075744300c",
            "2453601d07ae4484bc074970954fecbc",
            "a3f326a84f3c43b7a8f3fd374e4e1894",
            "2fd9033666164c40bbfb7340ad83d705"
          ]
        },
        "id": "X-LQz912h6QS",
        "outputId": "24c00015-ed6b-4d32-e3f2-283683e3f36e"
      },
      "execution_count": null,
      "outputs": [
        {
          "output_type": "display_data",
          "data": {
            "text/plain": [
              "tokenizer_config.json:   0%|          | 0.00/28.0 [00:00<?, ?B/s]"
            ],
            "application/vnd.jupyter.widget-view+json": {
              "version_major": 2,
              "version_minor": 0,
              "model_id": "fa2e58f43b8943de8094e60593385772"
            }
          },
          "metadata": {}
        },
        {
          "output_type": "display_data",
          "data": {
            "text/plain": [
              "vocab.txt:   0%|          | 0.00/232k [00:00<?, ?B/s]"
            ],
            "application/vnd.jupyter.widget-view+json": {
              "version_major": 2,
              "version_minor": 0,
              "model_id": "03dccc2099044064a50476fe1059fb43"
            }
          },
          "metadata": {}
        },
        {
          "output_type": "display_data",
          "data": {
            "text/plain": [
              "tokenizer.json:   0%|          | 0.00/466k [00:00<?, ?B/s]"
            ],
            "application/vnd.jupyter.widget-view+json": {
              "version_major": 2,
              "version_minor": 0,
              "model_id": "22d03aa428804ee3bec692c3b1468cfc"
            }
          },
          "metadata": {}
        },
        {
          "output_type": "display_data",
          "data": {
            "text/plain": [
              "config.json:   0%|          | 0.00/570 [00:00<?, ?B/s]"
            ],
            "application/vnd.jupyter.widget-view+json": {
              "version_major": 2,
              "version_minor": 0,
              "model_id": "54c75b0cd8cf449480b7f77619bdc356"
            }
          },
          "metadata": {}
        },
        {
          "output_type": "display_data",
          "data": {
            "text/plain": [
              "model.safetensors:   0%|          | 0.00/440M [00:00<?, ?B/s]"
            ],
            "application/vnd.jupyter.widget-view+json": {
              "version_major": 2,
              "version_minor": 0,
              "model_id": "d1e6293ccd33470ca574e5a61a013bac"
            }
          },
          "metadata": {}
        },
        {
          "output_type": "stream",
          "name": "stderr",
          "text": [
            "Some weights of the PyTorch model were not used when initializing the TF 2.0 model TFBertModel: ['cls.predictions.transform.LayerNorm.weight', 'cls.predictions.transform.dense.weight', 'cls.seq_relationship.bias', 'cls.seq_relationship.weight', 'cls.predictions.transform.dense.bias', 'cls.predictions.transform.LayerNorm.bias', 'cls.predictions.bias']\n",
            "- This IS expected if you are initializing TFBertModel from a PyTorch model trained on another task or with another architecture (e.g. initializing a TFBertForSequenceClassification model from a BertForPreTraining model).\n",
            "- This IS NOT expected if you are initializing TFBertModel from a PyTorch model that you expect to be exactly identical (e.g. initializing a TFBertForSequenceClassification model from a BertForSequenceClassification model).\n",
            "All the weights of TFBertModel were initialized from the PyTorch model.\n",
            "If your task is similar to the task the model of the checkpoint was trained on, you can already use TFBertModel for predictions without further training.\n"
          ]
        }
      ]
    },
    {
      "cell_type": "markdown",
      "source": [
        "## Step 3.2 Tokenize and Prep Data for BERT!"
      ],
      "metadata": {
        "id": "WaYXBKqVimbr"
      }
    },
    {
      "cell_type": "code",
      "source": [
        "# Load data\n",
        "train_df = pd.read_csv(directory_path + '/train.csv')\n",
        "validation_df = pd.read_csv(directory_path + '/validation.csv')\n",
        "test_df = pd.read_csv(directory_path + '/test.csv')\n",
        "\n",
        "# Calculate the 90th percentile of sequence lengths after tokenizing the tweets\n",
        "# Note: You might want to adjust this as BERT has a maximum token limit (typically 512 tokens)\n",
        "tokenized_tweets = [tokenizer.encode(tweet, add_special_tokens=True) for tweet in train_df['Tweet']]\n",
        "sequence_lengths = [len(tokens) for tokens in tokenized_tweets]\n",
        "max_length = min(int(np.percentile(sequence_lengths, 90)), 512)\n",
        "\n",
        "def encode_tweets(tweets):\n",
        "    return tokenizer.batch_encode_plus(\n",
        "        tweets,\n",
        "        max_length=max_length,\n",
        "        padding='max_length',\n",
        "        truncation=True,\n",
        "        return_tensors='tf'\n",
        "    ).data  # Only extract needed data (input_ids and attention_mask)\n",
        "\n",
        "\n",
        "# Encode the tweets using the correct DataFrame variable names\n",
        "train_encodings = encode_tweets(train_df['Tweet'].tolist())\n",
        "test_encodings = encode_tweets(test_df['Tweet'].tolist())\n",
        "validation_encodings = encode_tweets(validation_df['Tweet'].tolist())\n"
      ],
      "metadata": {
        "id": "sN7ApjagisYm"
      },
      "execution_count": null,
      "outputs": []
    },
    {
      "cell_type": "markdown",
      "source": [
        "## Step 3.3 Prepare the Labels"
      ],
      "metadata": {
        "id": "adLESiSrkLhb"
      }
    },
    {
      "cell_type": "code",
      "source": [
        "y_train = train_df.iloc[:, 2:].values\n",
        "y_test = test_df.iloc[:, 2:].values\n",
        "y_val = validation_df.iloc[:, 2:].values"
      ],
      "metadata": {
        "id": "LgvWMYoPkPEJ"
      },
      "execution_count": null,
      "outputs": []
    },
    {
      "cell_type": "markdown",
      "source": [
        "## Step 3.4 Create TensorFlow Datasets"
      ],
      "metadata": {
        "id": "KLm_xi_ykToC"
      }
    },
    {
      "cell_type": "code",
      "source": [
        "# Prepare the data for training\n",
        "train_inputs = {key: val.numpy() for key, val in train_encodings.items() if key in ['input_ids', 'attention_mask']}\n",
        "validation_inputs = {key: val.numpy() for key, val in validation_encodings.items() if key in ['input_ids', 'attention_mask']}\n",
        "test_inputs = {key: val.numpy() for key, val in test_encodings.items() if key in ['input_ids', 'attention_mask']}\n",
        "\n",
        "\n"
      ],
      "metadata": {
        "id": "GEYx0VFWkRua"
      },
      "execution_count": null,
      "outputs": []
    },
    {
      "cell_type": "markdown",
      "source": [
        "## Step 3.5 Build the BERT-Based Model"
      ],
      "metadata": {
        "id": "W-9fiyIQkeCW"
      }
    },
    {
      "cell_type": "code",
      "source": [
        "pip install tensorflow-addons\n"
      ],
      "metadata": {
        "colab": {
          "base_uri": "https://localhost:8080/"
        },
        "id": "lob451JjizhD",
        "outputId": "047e9455-c27b-4120-db2f-bae07f622310"
      },
      "execution_count": null,
      "outputs": [
        {
          "output_type": "stream",
          "name": "stdout",
          "text": [
            "Collecting tensorflow-addons\n",
            "  Downloading tensorflow_addons-0.23.0-cp310-cp310-manylinux_2_17_x86_64.manylinux2014_x86_64.whl (611 kB)\n",
            "\u001b[?25l     \u001b[90m━━━━━━━━━━━━━━━━━━━━━━━━━━━━━━━━━━━━━━━━\u001b[0m \u001b[32m0.0/611.8 kB\u001b[0m \u001b[31m?\u001b[0m eta \u001b[36m-:--:--\u001b[0m\r\u001b[2K     \u001b[91m━━━━━━━\u001b[0m\u001b[90m╺\u001b[0m\u001b[90m━━━━━━━━━━━━━━━━━━━━━━━━━━━━━━━━\u001b[0m \u001b[32m112.6/611.8 kB\u001b[0m \u001b[31m3.4 MB/s\u001b[0m eta \u001b[36m0:00:01\u001b[0m\r\u001b[2K     \u001b[90m━━━━━━━━━━━━━━━━━━━━━━━━━━━━━━━━━━━━━━━━\u001b[0m \u001b[32m611.8/611.8 kB\u001b[0m \u001b[31m11.6 MB/s\u001b[0m eta \u001b[36m0:00:00\u001b[0m\n",
            "\u001b[?25hRequirement already satisfied: packaging in /usr/local/lib/python3.10/dist-packages (from tensorflow-addons) (23.2)\n",
            "Collecting typeguard<3.0.0,>=2.7 (from tensorflow-addons)\n",
            "  Downloading typeguard-2.13.3-py3-none-any.whl (17 kB)\n",
            "Installing collected packages: typeguard, tensorflow-addons\n",
            "Successfully installed tensorflow-addons-0.23.0 typeguard-2.13.3\n"
          ]
        }
      ]
    },
    {
      "cell_type": "code",
      "source": [
        "from tensorflow.keras.layers import Input, Dense, Dropout, BatchNormalization, LayerNormalization\n",
        "from tensorflow.keras.models import Model\n",
        "from tensorflow.keras.regularizers import l1_l2\n",
        "from transformers import TFBertModel\n",
        "from tensorflow.keras.optimizers import Adam\n",
        "from tensorflow.keras.metrics import Precision, Recall\n",
        "from tensorflow.keras.callbacks import LearningRateScheduler\n",
        "import tensorflow as tf\n",
        "\n",
        "# BERT input\n",
        "input_ids = Input(shape=(max_length,), dtype=tf.int32, name=\"input_ids\")\n",
        "attention_masks = Input(shape=(max_length,), dtype=tf.int32, name=\"attention_mask\")\n",
        "\n",
        "# Load the BERT model with custom layer unfreezing\n",
        "bert = TFBertModel.from_pretrained('bert-base-uncased')\n",
        "# Freeze all layers first\n",
        "for layer in bert.layers:\n",
        "    layer.trainable = False\n",
        "\n",
        "# # Unfreeze the top N layers\n",
        "# N = 1  # Define the number of layers to unfreeze\n",
        "# for layer in bert.layers[-N:]:\n",
        "#     layer.trainable = True\n",
        "\n",
        "# BERT embeddings\n",
        "bert_outputs = bert(input_ids, attention_mask=attention_masks)\n",
        "bert_output = bert_outputs[1]  # Use the pooled output for classification tasks\n",
        "\n",
        "# Additional layers with L1/L2 regularization and Layer Normalization\n",
        "x = Dense(128, activation='relu', kernel_regularizer=l1_l2(l1=1e-5, l2=1e-4))(bert_output)\n",
        "x = LayerNormalization()(x)\n",
        "x = Dropout(0.1)(x)\n",
        "\n",
        "x = Dense(64, activation='relu', kernel_regularizer=l1_l2(l1=1e-5, l2=1e-4))(x)\n",
        "x = LayerNormalization()(x)\n",
        "x = Dropout(0.1)(x)\n",
        "\n",
        "x = Dense(32, activation='relu', kernel_regularizer=l1_l2(l1=1e-5, l2=1e-4))(x)\n",
        "x = LayerNormalization()(x)\n",
        "x = Dropout(0.1)(x)\n",
        "\n",
        "# Output layer\n",
        "output = Dense(11, activation='sigmoid')(x)\n",
        "\n",
        "# Construct the model\n",
        "model = Model(inputs=[input_ids, attention_masks], outputs=output)\n",
        "\n",
        "# Use AdamW optimizer and learning rate scheduler\n",
        "optimizer = Adam(learning_rate=5e-5)\n",
        "model.compile(optimizer=optimizer, loss='binary_crossentropy', metrics=[Precision(), Recall()])\n",
        "\n",
        "# Add a learning rate scheduler\n",
        "def scheduler(epoch, lr):\n",
        "    if epoch < 10:\n",
        "        return lr\n",
        "    else:\n",
        "        return lr * tf.math.exp(-0.1)\n",
        "\n",
        "callback = LearningRateScheduler(scheduler)\n",
        "\n",
        "model.summary()\n"
      ],
      "metadata": {
        "colab": {
          "base_uri": "https://localhost:8080/"
        },
        "id": "w-sb4h5okf52",
        "outputId": "7c55da76-942a-47cc-bc79-e8c98436c4b2"
      },
      "execution_count": null,
      "outputs": [
        {
          "output_type": "stream",
          "name": "stderr",
          "text": [
            "Some weights of the PyTorch model were not used when initializing the TF 2.0 model TFBertModel: ['cls.predictions.transform.LayerNorm.weight', 'cls.predictions.transform.dense.weight', 'cls.seq_relationship.bias', 'cls.seq_relationship.weight', 'cls.predictions.transform.dense.bias', 'cls.predictions.transform.LayerNorm.bias', 'cls.predictions.bias']\n",
            "- This IS expected if you are initializing TFBertModel from a PyTorch model trained on another task or with another architecture (e.g. initializing a TFBertForSequenceClassification model from a BertForPreTraining model).\n",
            "- This IS NOT expected if you are initializing TFBertModel from a PyTorch model that you expect to be exactly identical (e.g. initializing a TFBertForSequenceClassification model from a BertForSequenceClassification model).\n",
            "All the weights of TFBertModel were initialized from the PyTorch model.\n",
            "If your task is similar to the task the model of the checkpoint was trained on, you can already use TFBertModel for predictions without further training.\n"
          ]
        },
        {
          "output_type": "stream",
          "name": "stdout",
          "text": [
            "Model: \"model_6\"\n",
            "__________________________________________________________________________________________________\n",
            " Layer (type)                Output Shape                 Param #   Connected to                  \n",
            "==================================================================================================\n",
            " input_ids (InputLayer)      [(None, 40)]                 0         []                            \n",
            "                                                                                                  \n",
            " attention_mask (InputLayer  [(None, 40)]                 0         []                            \n",
            " )                                                                                                \n",
            "                                                                                                  \n",
            " tf_bert_model_11 (TFBertMo  TFBaseModelOutputWithPooli   1094822   ['input_ids[0][0]',           \n",
            " del)                        ngAndCrossAttentions(last_   40         'attention_mask[0][0]']      \n",
            "                             hidden_state=(None, 40, 76                                           \n",
            "                             8),                                                                  \n",
            "                              pooler_output=(None, 768)                                           \n",
            "                             , past_key_values=None, hi                                           \n",
            "                             dden_states=None, attentio                                           \n",
            "                             ns=None, cross_attentions=                                           \n",
            "                             None)                                                                \n",
            "                                                                                                  \n",
            " dense_23 (Dense)            (None, 128)                  98432     ['tf_bert_model_11[0][1]']    \n",
            "                                                                                                  \n",
            " layer_normalization_17 (La  (None, 128)                  256       ['dense_23[0][0]']            \n",
            " yerNormalization)                                                                                \n",
            "                                                                                                  \n",
            " dropout_461 (Dropout)       (None, 128)                  0         ['layer_normalization_17[0][0]\n",
            "                                                                    ']                            \n",
            "                                                                                                  \n",
            " dense_24 (Dense)            (None, 64)                   8256      ['dropout_461[0][0]']         \n",
            "                                                                                                  \n",
            " layer_normalization_18 (La  (None, 64)                   128       ['dense_24[0][0]']            \n",
            " yerNormalization)                                                                                \n",
            "                                                                                                  \n",
            " dropout_462 (Dropout)       (None, 64)                   0         ['layer_normalization_18[0][0]\n",
            "                                                                    ']                            \n",
            "                                                                                                  \n",
            " dense_25 (Dense)            (None, 32)                   2080      ['dropout_462[0][0]']         \n",
            "                                                                                                  \n",
            " layer_normalization_19 (La  (None, 32)                   64        ['dense_25[0][0]']            \n",
            " yerNormalization)                                                                                \n",
            "                                                                                                  \n",
            " dropout_463 (Dropout)       (None, 32)                   0         ['layer_normalization_19[0][0]\n",
            "                                                                    ']                            \n",
            "                                                                                                  \n",
            " dense_26 (Dense)            (None, 11)                   363       ['dropout_463[0][0]']         \n",
            "                                                                                                  \n",
            "==================================================================================================\n",
            "Total params: 109591819 (418.06 MB)\n",
            "Trainable params: 109579 (428.04 KB)\n",
            "Non-trainable params: 109482240 (417.64 MB)\n",
            "__________________________________________________________________________________________________\n"
          ]
        }
      ]
    },
    {
      "cell_type": "markdown",
      "source": [
        "## Step 3.6 Train the BERT model"
      ],
      "metadata": {
        "id": "TY7gAnCtyxDf"
      }
    },
    {
      "cell_type": "code",
      "source": [
        "from tensorflow.keras.callbacks import EarlyStopping\n",
        "from tensorflow.keras.backend import clear_session\n",
        "from tensorflow.keras.models import load_model\n",
        "# Callback for early stopping\n",
        "early_stopping = EarlyStopping(monitor='val_loss', patience=5, restore_best_weights=True)\n",
        "epochs = 50\n",
        "batch_size = 32\n",
        "\n",
        "# Train the model\n",
        "history = model.fit(\n",
        "    train_inputs, y_train,\n",
        "    epochs=epochs,\n",
        "    validation_data=(validation_inputs, y_val),\n",
        "    callbacks=[early_stopping],\n",
        "    batch_size=batch_size,\n",
        "    verbose=1\n",
        ")\n",
        "\n",
        "# Save the model\n",
        "# Verion 6 currently best performing\n",
        "model_filename = \"/BERT_assignment_3_version_7.h5\"\n",
        "full_path = directory_path + model_filename\n",
        "model.save(full_path)\n",
        "print(\"Training Complete\")\n"
      ],
      "metadata": {
        "colab": {
          "base_uri": "https://localhost:8080/"
        },
        "id": "Qg7DHudXkigj",
        "outputId": "47348f51-f1ee-41aa-ceba-266b82451fb8"
      },
      "execution_count": null,
      "outputs": [
        {
          "output_type": "stream",
          "name": "stdout",
          "text": [
            "Epoch 1/50\n",
            "214/214 [==============================] - 27s 60ms/step - loss: 0.6267 - precision_6: 0.3071 - recall_6: 0.1520 - val_loss: 0.5691 - val_precision_6: 0.2222 - val_recall_6: 9.2550e-04\n",
            "Epoch 2/50\n",
            "214/214 [==============================] - 9s 44ms/step - loss: 0.5786 - precision_6: 0.3582 - recall_6: 0.0938 - val_loss: 0.5591 - val_precision_6: 0.3333 - val_recall_6: 4.6275e-04\n",
            "Epoch 3/50\n",
            "214/214 [==============================] - 9s 44ms/step - loss: 0.5707 - precision_6: 0.3718 - recall_6: 0.0904 - val_loss: 0.5535 - val_precision_6: 0.5000 - val_recall_6: 4.6275e-04\n",
            "Epoch 4/50\n",
            "214/214 [==============================] - 9s 43ms/step - loss: 0.5656 - precision_6: 0.3665 - recall_6: 0.0863 - val_loss: 0.5471 - val_precision_6: 0.7143 - val_recall_6: 0.0023\n",
            "Epoch 5/50\n",
            "214/214 [==============================] - 9s 44ms/step - loss: 0.5586 - precision_6: 0.4067 - recall_6: 0.0929 - val_loss: 0.5411 - val_precision_6: 0.7727 - val_recall_6: 0.0079\n",
            "Epoch 6/50\n",
            "214/214 [==============================] - 9s 43ms/step - loss: 0.5531 - precision_6: 0.4377 - recall_6: 0.1071 - val_loss: 0.5314 - val_precision_6: 0.7103 - val_recall_6: 0.0352\n",
            "Epoch 7/50\n",
            "214/214 [==============================] - 9s 44ms/step - loss: 0.5437 - precision_6: 0.4946 - recall_6: 0.1501 - val_loss: 0.5133 - val_precision_6: 0.7060 - val_recall_6: 0.1189\n",
            "Epoch 8/50\n",
            "214/214 [==============================] - 9s 43ms/step - loss: 0.5359 - precision_6: 0.5359 - recall_6: 0.1852 - val_loss: 0.5146 - val_precision_6: 0.7267 - val_recall_6: 0.1513\n",
            "Epoch 9/50\n",
            "214/214 [==============================] - 9s 43ms/step - loss: 0.5292 - precision_6: 0.5509 - recall_6: 0.2023 - val_loss: 0.4941 - val_precision_6: 0.7335 - val_recall_6: 0.2675\n",
            "Epoch 10/50\n",
            "214/214 [==============================] - 9s 44ms/step - loss: 0.5215 - precision_6: 0.5830 - recall_6: 0.2375 - val_loss: 0.4863 - val_precision_6: 0.7517 - val_recall_6: 0.2633\n",
            "Epoch 11/50\n",
            "214/214 [==============================] - 9s 43ms/step - loss: 0.5155 - precision_6: 0.5945 - recall_6: 0.2538 - val_loss: 0.4800 - val_precision_6: 0.7058 - val_recall_6: 0.3508\n",
            "Epoch 12/50\n",
            "214/214 [==============================] - 9s 43ms/step - loss: 0.5113 - precision_6: 0.5909 - recall_6: 0.2754 - val_loss: 0.4773 - val_precision_6: 0.7106 - val_recall_6: 0.3397\n",
            "Epoch 13/50\n",
            "214/214 [==============================] - 9s 43ms/step - loss: 0.5072 - precision_6: 0.6081 - recall_6: 0.2899 - val_loss: 0.4698 - val_precision_6: 0.7338 - val_recall_6: 0.3457\n",
            "Epoch 14/50\n",
            "214/214 [==============================] - 9s 44ms/step - loss: 0.5037 - precision_6: 0.6069 - recall_6: 0.2895 - val_loss: 0.4698 - val_precision_6: 0.7416 - val_recall_6: 0.3253\n",
            "Epoch 15/50\n",
            "214/214 [==============================] - 9s 43ms/step - loss: 0.5009 - precision_6: 0.6158 - recall_6: 0.3001 - val_loss: 0.4658 - val_precision_6: 0.7303 - val_recall_6: 0.3596\n",
            "Epoch 16/50\n",
            "214/214 [==============================] - 9s 42ms/step - loss: 0.4975 - precision_6: 0.6164 - recall_6: 0.3076 - val_loss: 0.4737 - val_precision_6: 0.6951 - val_recall_6: 0.3512\n",
            "Epoch 17/50\n",
            "214/214 [==============================] - 9s 44ms/step - loss: 0.4947 - precision_6: 0.6256 - recall_6: 0.3168 - val_loss: 0.4614 - val_precision_6: 0.7291 - val_recall_6: 0.3586\n",
            "Epoch 18/50\n",
            "214/214 [==============================] - 9s 43ms/step - loss: 0.4925 - precision_6: 0.6231 - recall_6: 0.3185 - val_loss: 0.4588 - val_precision_6: 0.6921 - val_recall_6: 0.4151\n",
            "Epoch 19/50\n",
            "214/214 [==============================] - 9s 44ms/step - loss: 0.4925 - precision_6: 0.6164 - recall_6: 0.3186 - val_loss: 0.4572 - val_precision_6: 0.7313 - val_recall_6: 0.3702\n",
            "Epoch 20/50\n",
            "214/214 [==============================] - 9s 44ms/step - loss: 0.4900 - precision_6: 0.6203 - recall_6: 0.3246 - val_loss: 0.4531 - val_precision_6: 0.7249 - val_recall_6: 0.3938\n",
            "Epoch 21/50\n",
            "214/214 [==============================] - 9s 42ms/step - loss: 0.4861 - precision_6: 0.6264 - recall_6: 0.3371 - val_loss: 0.4547 - val_precision_6: 0.7262 - val_recall_6: 0.3781\n",
            "Epoch 22/50\n",
            "214/214 [==============================] - 9s 44ms/step - loss: 0.4851 - precision_6: 0.6350 - recall_6: 0.3300 - val_loss: 0.4505 - val_precision_6: 0.7038 - val_recall_6: 0.4211\n",
            "Epoch 23/50\n",
            "214/214 [==============================] - 9s 43ms/step - loss: 0.4832 - precision_6: 0.6302 - recall_6: 0.3427 - val_loss: 0.4491 - val_precision_6: 0.7296 - val_recall_6: 0.3896\n",
            "Epoch 24/50\n",
            "214/214 [==============================] - 9s 43ms/step - loss: 0.4804 - precision_6: 0.6342 - recall_6: 0.3462 - val_loss: 0.4491 - val_precision_6: 0.7422 - val_recall_6: 0.3744\n",
            "Epoch 25/50\n",
            "214/214 [==============================] - 9s 43ms/step - loss: 0.4801 - precision_6: 0.6344 - recall_6: 0.3452 - val_loss: 0.4467 - val_precision_6: 0.7300 - val_recall_6: 0.3966\n",
            "Epoch 26/50\n",
            "214/214 [==============================] - 9s 42ms/step - loss: 0.4782 - precision_6: 0.6376 - recall_6: 0.3482 - val_loss: 0.4484 - val_precision_6: 0.7171 - val_recall_6: 0.3989\n",
            "Epoch 27/50\n",
            "214/214 [==============================] - 9s 42ms/step - loss: 0.4779 - precision_6: 0.6374 - recall_6: 0.3442 - val_loss: 0.4480 - val_precision_6: 0.7228 - val_recall_6: 0.3836\n",
            "Epoch 28/50\n",
            "214/214 [==============================] - 9s 44ms/step - loss: 0.4757 - precision_6: 0.6383 - recall_6: 0.3516 - val_loss: 0.4424 - val_precision_6: 0.7223 - val_recall_6: 0.4128\n",
            "Epoch 29/50\n",
            "214/214 [==============================] - 9s 43ms/step - loss: 0.4750 - precision_6: 0.6323 - recall_6: 0.3508 - val_loss: 0.4408 - val_precision_6: 0.7197 - val_recall_6: 0.4230\n",
            "Epoch 30/50\n",
            "214/214 [==============================] - 9s 42ms/step - loss: 0.4731 - precision_6: 0.6398 - recall_6: 0.3537 - val_loss: 0.4416 - val_precision_6: 0.7388 - val_recall_6: 0.3980\n",
            "Epoch 31/50\n",
            "214/214 [==============================] - 9s 42ms/step - loss: 0.4737 - precision_6: 0.6425 - recall_6: 0.3483 - val_loss: 0.4415 - val_precision_6: 0.7243 - val_recall_6: 0.3938\n",
            "Epoch 32/50\n",
            "214/214 [==============================] - 9s 42ms/step - loss: 0.4708 - precision_6: 0.6425 - recall_6: 0.3586 - val_loss: 0.4479 - val_precision_6: 0.6875 - val_recall_6: 0.4267\n",
            "Epoch 33/50\n",
            "214/214 [==============================] - 9s 43ms/step - loss: 0.4697 - precision_6: 0.6442 - recall_6: 0.3549 - val_loss: 0.4395 - val_precision_6: 0.7134 - val_recall_6: 0.4123\n",
            "Epoch 34/50\n",
            "214/214 [==============================] - 9s 43ms/step - loss: 0.4694 - precision_6: 0.6428 - recall_6: 0.3531 - val_loss: 0.4380 - val_precision_6: 0.7332 - val_recall_6: 0.3943\n",
            "Epoch 35/50\n",
            "214/214 [==============================] - 9s 42ms/step - loss: 0.4637 - precision_6: 0.6514 - recall_6: 0.3727 - val_loss: 0.4393 - val_precision_6: 0.7276 - val_recall_6: 0.4068\n",
            "Epoch 36/50\n",
            "214/214 [==============================] - 9s 43ms/step - loss: 0.4665 - precision_6: 0.6441 - recall_6: 0.3564 - val_loss: 0.4346 - val_precision_6: 0.7485 - val_recall_6: 0.4021\n",
            "Epoch 37/50\n",
            "214/214 [==============================] - 9s 42ms/step - loss: 0.4660 - precision_6: 0.6444 - recall_6: 0.3632 - val_loss: 0.4375 - val_precision_6: 0.7448 - val_recall_6: 0.3957\n",
            "Epoch 38/50\n",
            "214/214 [==============================] - 9s 43ms/step - loss: 0.4632 - precision_6: 0.6479 - recall_6: 0.3664 - val_loss: 0.4299 - val_precision_6: 0.7338 - val_recall_6: 0.4146\n",
            "Epoch 39/50\n",
            "214/214 [==============================] - 9s 43ms/step - loss: 0.4626 - precision_6: 0.6487 - recall_6: 0.3655 - val_loss: 0.4299 - val_precision_6: 0.7182 - val_recall_6: 0.4447\n",
            "Epoch 40/50\n",
            "214/214 [==============================] - 9s 42ms/step - loss: 0.4627 - precision_6: 0.6470 - recall_6: 0.3670 - val_loss: 0.4322 - val_precision_6: 0.7230 - val_recall_6: 0.4299\n",
            "Epoch 41/50\n",
            "214/214 [==============================] - 10s 45ms/step - loss: 0.4616 - precision_6: 0.6475 - recall_6: 0.3669 - val_loss: 0.4275 - val_precision_6: 0.7357 - val_recall_6: 0.4290\n",
            "Epoch 42/50\n",
            "214/214 [==============================] - 9s 43ms/step - loss: 0.4581 - precision_6: 0.6522 - recall_6: 0.3720 - val_loss: 0.4347 - val_precision_6: 0.7142 - val_recall_6: 0.4243\n",
            "Epoch 43/50\n",
            "214/214 [==============================] - 9s 42ms/step - loss: 0.4604 - precision_6: 0.6502 - recall_6: 0.3658 - val_loss: 0.4287 - val_precision_6: 0.7309 - val_recall_6: 0.4248\n",
            "Epoch 44/50\n",
            "214/214 [==============================] - 9s 43ms/step - loss: 0.4599 - precision_6: 0.6492 - recall_6: 0.3698 - val_loss: 0.4275 - val_precision_6: 0.7162 - val_recall_6: 0.4484\n",
            "Epoch 45/50\n",
            "214/214 [==============================] - 9s 44ms/step - loss: 0.4549 - precision_6: 0.6532 - recall_6: 0.3779 - val_loss: 0.4274 - val_precision_6: 0.7276 - val_recall_6: 0.4327\n",
            "Epoch 46/50\n",
            "214/214 [==============================] - 9s 43ms/step - loss: 0.4590 - precision_6: 0.6498 - recall_6: 0.3675 - val_loss: 0.4227 - val_precision_6: 0.7247 - val_recall_6: 0.4433\n",
            "Epoch 47/50\n",
            "214/214 [==============================] - 9s 42ms/step - loss: 0.4582 - precision_6: 0.6476 - recall_6: 0.3716 - val_loss: 0.4297 - val_precision_6: 0.7727 - val_recall_6: 0.3855\n",
            "Epoch 48/50\n",
            "214/214 [==============================] - 9s 44ms/step - loss: 0.4545 - precision_6: 0.6530 - recall_6: 0.3695 - val_loss: 0.4223 - val_precision_6: 0.7278 - val_recall_6: 0.4429\n",
            "Epoch 49/50\n",
            "214/214 [==============================] - 9s 42ms/step - loss: 0.4556 - precision_6: 0.6551 - recall_6: 0.3716 - val_loss: 0.4245 - val_precision_6: 0.7240 - val_recall_6: 0.4382\n",
            "Epoch 50/50\n",
            "214/214 [==============================] - 9s 43ms/step - loss: 0.4542 - precision_6: 0.6528 - recall_6: 0.3696 - val_loss: 0.4220 - val_precision_6: 0.7293 - val_recall_6: 0.4290\n"
          ]
        },
        {
          "output_type": "stream",
          "name": "stderr",
          "text": [
            "/usr/local/lib/python3.10/dist-packages/keras/src/engine/training.py:3079: UserWarning: You are saving your model as an HDF5 file via `model.save()`. This file format is considered legacy. We recommend using instead the native Keras format, e.g. `model.save('my_model.keras')`.\n",
            "  saving_api.save_model(\n"
          ]
        },
        {
          "output_type": "stream",
          "name": "stdout",
          "text": [
            "Training Complete\n"
          ]
        }
      ]
    },
    {
      "cell_type": "markdown",
      "source": [
        "## Step 3.7 Evaluating on Test Set"
      ],
      "metadata": {
        "id": "Z3mRdz8u05PI"
      }
    },
    {
      "cell_type": "code",
      "source": [
        "from tensorflow.keras.models import load_model\n",
        "from transformers import TFBertModel\n",
        "from sklearn.metrics import recall_score\n",
        "import numpy as np\n",
        "\n",
        "# model_filename = \"/BERT_assignment_3_version_4.h5\"\n",
        "# full_path = directory_path + model_filename\n",
        "\n",
        "# Custom object for loading the model\n",
        "custom_objects = {\"TFBertModel\": TFBertModel}\n",
        "\n",
        "# Load the model with custom objects\n",
        "with tf.keras.utils.custom_object_scope(custom_objects):\n",
        "    print(\"Loading from\", full_path)\n",
        "    model = load_model(full_path)\n",
        "\n",
        "# Now you can use your model to predict and evaluate\n",
        "test_predictions = model.predict(test_inputs)\n",
        "binary_predictions = np.round(test_predictions)"
      ],
      "metadata": {
        "colab": {
          "base_uri": "https://localhost:8080/"
        },
        "id": "8CNPVVf807Di",
        "outputId": "69ef48fc-71e3-4f6c-8762-ae8baf155558"
      },
      "execution_count": null,
      "outputs": [
        {
          "output_type": "stream",
          "name": "stdout",
          "text": [
            "Loading from /content/drive/My Drive/Projects Things Useful/University/CU Denver 2023-2024 Sem 1/Deep Learning/Assignment_3_Data/BERT_assignment_3_version_7.h5\n"
          ]
        },
        {
          "output_type": "stream",
          "name": "stderr",
          "text": [
            "WARNING:tensorflow:Error in loading the saved optimizer state. As a result, your model is starting with a freshly initialized optimizer.\n"
          ]
        },
        {
          "output_type": "stream",
          "name": "stdout",
          "text": [
            "102/102 [==============================] - 6s 34ms/step\n"
          ]
        }
      ]
    },
    {
      "cell_type": "code",
      "source": [
        "\n",
        "# Calculate recall for each class\n",
        "class_recalls = recall_score(y_test, binary_predictions, average=None)\n",
        "\n",
        "# Print recall for each class\n",
        "emotion_classes = train_df.columns[2:]  # Assuming the first two columns are not labels\n",
        "for emotion, recall in zip(emotion_classes, class_recalls):\n",
        "    print(f\"Recall for {emotion}: {recall}\")\n",
        "\n",
        "over_50 = len([i for i in class_recalls if i >= 0.50])\n",
        "print(over_50,\"of the\",len(class_recalls),\"labels have a recall over 50\")\n",
        "\n"
      ],
      "metadata": {
        "colab": {
          "base_uri": "https://localhost:8080/"
        },
        "id": "Tw-2h9P11APr",
        "outputId": "8961060f-83b1-4b92-99ca-6ecac90b1ef6"
      },
      "execution_count": null,
      "outputs": [
        {
          "output_type": "stream",
          "name": "stdout",
          "text": [
            "Recall for anger: 0.5967302452316077\n",
            "Recall for anticipation: 0.0\n",
            "Recall for disgust: 0.6069153776160146\n",
            "Recall for fear: 0.016494845360824743\n",
            "Recall for joy: 0.7337031900138696\n",
            "Recall for love: 0.0755813953488372\n",
            "Recall for optimism: 0.6202974628171478\n",
            "Recall for pessimism: 0.0\n",
            "Recall for sadness: 0.18020833333333333\n",
            "Recall for surprise: 0.0\n",
            "Recall for trust: 0.0\n",
            "4 of the 11 labels have a recall over 50\n"
          ]
        }
      ]
    },
    {
      "cell_type": "markdown",
      "source": [],
      "metadata": {
        "id": "XaZ4azox0_eq"
      }
    }
  ]
}